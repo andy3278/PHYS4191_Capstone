{
 "cells": [
  {
   "cell_type": "code",
   "execution_count": 1,
   "metadata": {},
   "outputs": [
    {
     "name": "stdout",
     "output_type": "stream",
     "text": [
      "[ 0  1  2  3  4  5  6  7  8  9  9  9 10 11 12 13 13 13 13 13]\n"
     ]
    },
    {
     "data": {
      "image/png": "[encoded data removed]",
      "text/plain": [
       "<Figure size 432x288 with 1 Axes>"
      ]
     },
     "metadata": {
      "needs_background": "light"
     },
     "output_type": "display_data"
    }
   ],
   "source": [
    "import numpy as np\n",
    "#import random\n",
    "from matplotlib import pyplot as plt\n",
    "\n",
    "n = 20\n",
    "np.random.seed(589015328)\n",
    "protein = np.random.randint(1, 20, n) # n numbers between 1 and 19\n",
    "folds = np.zeros(n, dtype= int) # default there are no turns\n",
    "folds[9] = -1 # turn left after protein 9\n",
    "folds[11] = 1 # turn right after protein 11\n",
    "folds[15] = -1 # turn left after protein 15\n",
    "\n",
    "dir = (1, 0)\n",
    "pos = (0, 0)\n",
    "x = np.zeros_like(protein)\n",
    "y = np.zeros_like(protein)\n",
    "for i, (p, f) in enumerate(zip(protein, folds)):\n",
    "    x[i], y[i] = pos\n",
    "    if f == 1:  # turn right\n",
    "        dir = (dir[1], -dir[0])\n",
    "    elif f == -1:  # turn left\n",
    "        dir = (-dir[1], dir[0])\n",
    "    pos = (pos[0] + dir[0], pos[1] + dir[1])\n",
    "print(x)\n",
    "\n",
    "plt.plot(x, y, 'k-', zorder=1)  # straight lines\n",
    "# large dots colored via the 'tab20' colormap, set zorder=3 to draw the dots on top of the lines\n",
    "plt.scatter(x, y, c=protein, cmap = 'Greys', s=200, zorder=3) \n",
    "\n",
    "plt.axis('off') # don't show the axes\n",
    "plt.margins(0.1) # enough margin so that the large scatter dots don't touch the borders\n",
    "plt.gca().set_aspect('equal') # equal distances in x and y direction \n",
    "plt.show()"
   ]
  }
 ],
 "metadata": {
  "interpreter": {
   "hash": "b0fa6594d8f4cbf19f97940f81e996739fb7646882a419484c72d19e05852a7e"
  },
  "kernelspec": {
   "display_name": "Python 3.9.7 64-bit",
   "language": "python",
   "name": "python3"
  },
  "language_info": {
   "codemirror_mode": {
    "name": "ipython",
    "version": 3
   },
   "file_extension": ".py",
   "mimetype": "text/x-python",
   "name": "python",
   "nbconvert_exporter": "python",
   "pygments_lexer": "ipython3",
   "version": "3.9.7"
  },
  "orig_nbformat": 4
 },
 "nbformat": 4,
 "nbformat_minor": 2
}
