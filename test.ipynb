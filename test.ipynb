{
 "cells": [
  {
   "cell_type": "code",
   "execution_count": 2,
   "metadata": {},
   "outputs": [],
   "source": [
    "import math\n",
    "import numpy as np\n",
    "import pandas as pd\n",
    "from matplotlib import pyplot as plt \n",
    "import random"
   ]
  },
  {
   "cell_type": "code",
   "execution_count": 30,
   "metadata": {},
   "outputs": [],
   "source": [
    "nx = 20\n",
    "ny = 20\n",
    "T0 = 1\n",
    "T1 = 10\n",
    "kB = 1\n",
    "T = np.arange(T0, T1, 0.2) #temperature\n",
    "random.seed(589015328) # this seed should not be changed in order to reproduce result\n",
    "number_gen = 5000\n",
    "\n",
    "numebr_amino_acids = 15"
   ]
  },
  {
   "cell_type": "code",
   "execution_count": 8,
   "metadata": {},
   "outputs": [],
   "source": [
    "def distance(x1, y1, x2, y2):\n",
    "    return math.sqrt((x2-x1)**2+(y2-y1)**2)"
   ]
  },
  {
   "cell_type": "code",
   "execution_count": 34,
   "metadata": {},
   "outputs": [
    {
     "data": {
      "text/plain": [
       "[[0, 10],\n",
       " [1, 10],\n",
       " [2, 10],\n",
       " [3, 10],\n",
       " [4, 10],\n",
       " [5, 10],\n",
       " [6, 10],\n",
       " [7, 10],\n",
       " [8, 10],\n",
       " [9, 10],\n",
       " [10, 10],\n",
       " [11, 10],\n",
       " [12, 10],\n",
       " [13, 10],\n",
       " [14, 10]]"
      ]
     },
     "execution_count": 34,
     "metadata": {},
     "output_type": "execute_result"
    }
   ],
   "source": [
    "protein_coordinate = []\n",
    "def initial_protein():\n",
    "    for i in range(numebr_amino_acids):\n",
    "        protein_coordinate.append([i,10])\n",
    "    return protein_coordinate\n",
    "initial_protein()\n",
    "protein_coordinate\n"
   ]
  },
  {
   "cell_type": "code",
   "execution_count": 7,
   "metadata": {},
   "outputs": [],
   "source": [
    "#initialize the lattice 20 by 20\n",
    "lattice = np.zeros((nx,ny))\n",
    "center_x = nx // 2 \n",
    "center_y = ny // 2\n",
    "#initialize lattice with stright protein chain in middle \n",
    "def initial_lattice():\n",
    "    for i in range(nx):\n",
    "        for j in range(ny):\n",
    "            if (i== center_x and j> 2and j < 8):\n",
    "                lattice[i,j] = 1\n",
    "initial_lattice()\n",
    "coord_x = [[10,10,10,10,10]]\n",
    "coord_y = [[3,4,5,6,7]]\n"
   ]
  },
  {
   "cell_type": "code",
   "execution_count": 35,
   "metadata": {},
   "outputs": [
    {
     "data": {
      "text/plain": [
       "array([[ 0.        , -2.26317916, -2.50431138, -3.43206054, -2.14616161,\n",
       "        -2.014039  , -2.58307223, -3.07264055, -2.97277883, -3.01558973,\n",
       "        -3.47475689, -2.19796018, -2.18825067, -3.77779957, -3.2397413 ,\n",
       "        -3.18129315, -3.58456357, -2.15955794, -3.98207367, -2.21891149],\n",
       "       [-2.26317916,  0.        , -3.73118856, -3.48257021, -3.64469   ,\n",
       "        -3.82842393, -2.47637475, -3.97606   , -3.22118453, -3.16050379,\n",
       "        -3.4465406 , -2.13597224, -2.20154003, -2.8756539 , -3.90927549,\n",
       "        -2.19604478, -2.23057369, -3.46740171, -2.04432233, -3.03870005],\n",
       "       [-2.50431138, -3.73118856,  0.        , -3.9288117 , -2.79744936,\n",
       "        -2.57353101, -3.44747079, -2.66955342, -2.35136801, -2.57864838,\n",
       "        -3.78232756, -2.38616568, -2.56770999, -3.56108241, -3.24735698,\n",
       "        -3.52306601, -3.19175524, -3.20934283, -3.7791927 , -3.92308309],\n",
       "       [-3.43206054, -3.48257021, -3.9288117 ,  0.        , -2.16718715,\n",
       "        -3.99084456, -2.09916033, -2.22540503, -2.26139822, -3.6628827 ,\n",
       "        -3.60542895, -3.53992018, -3.01786206, -3.12630477, -3.98225189,\n",
       "        -3.72468132, -3.93250067, -3.92046542, -2.64295004, -3.72544729],\n",
       "       [-2.14616161, -3.64469   , -2.79744936, -2.16718715,  0.        ,\n",
       "        -2.18751266, -2.61060141, -3.6743215 , -2.94796871, -2.83094196,\n",
       "        -3.85360679, -2.37782251, -3.78176378, -3.90942862, -3.96593965,\n",
       "        -3.21615205, -2.30100163, -3.89718873, -2.58979244, -2.9514731 ],\n",
       "       [-2.014039  , -3.82842393, -2.57353101, -3.99084456, -2.18751266,\n",
       "         0.        , -3.75567668, -2.11046941, -3.32507036, -3.53575391,\n",
       "        -2.9939949 , -3.06433195, -3.44218765, -3.29654188, -3.9145769 ,\n",
       "        -3.61683415, -2.27806998, -3.73680923, -3.52641426, -3.55363408],\n",
       "       [-2.58307223, -2.47637475, -3.44747079, -2.09916033, -2.61060141,\n",
       "        -3.75567668,  0.        , -2.60642593, -3.6495423 , -2.68487219,\n",
       "        -3.5840798 , -2.0796718 , -3.37364638, -3.49773487, -2.8599415 ,\n",
       "        -2.69896842, -3.72271827, -2.31621703, -2.09184461, -3.5311712 ],\n",
       "       [-3.07264055, -3.97606   , -2.66955342, -2.22540503, -3.6743215 ,\n",
       "        -2.11046941, -2.60642593,  0.        , -2.39595741, -2.33495178,\n",
       "        -2.86427391, -3.33596852, -2.91772107, -2.33489592, -2.27162857,\n",
       "        -3.86253257, -3.63078135, -2.1233179 , -3.06521652, -2.96546991],\n",
       "       [-2.97277883, -3.22118453, -2.35136801, -2.26139822, -2.94796871,\n",
       "        -3.32507036, -3.6495423 , -2.39595741,  0.        , -2.58987171,\n",
       "        -3.3514343 , -3.40808614, -2.31740557, -3.65367712, -3.52814526,\n",
       "        -3.4196302 , -2.96581688, -3.10545048, -2.32931357, -2.08281367],\n",
       "       [-3.01558973, -3.16050379, -2.57864838, -3.6628827 , -2.83094196,\n",
       "        -3.53575391, -2.68487219, -2.33495178, -2.58987171,  0.        ,\n",
       "        -2.9572364 , -3.69385725, -3.91647391, -3.07710104, -3.09584535,\n",
       "        -2.14265167, -3.26649778, -3.65870864, -2.50442904, -2.63619623],\n",
       "       [-3.47475689, -3.4465406 , -3.78232756, -3.60542895, -3.85360679,\n",
       "        -2.9939949 , -3.5840798 , -2.86427391, -3.3514343 , -2.9572364 ,\n",
       "         0.        , -2.40610465, -2.98471852, -3.25501136, -2.55330834,\n",
       "        -2.79935121, -3.93966391, -3.34553964, -2.84818301, -2.03949621],\n",
       "       [-2.19796018, -2.13597224, -2.38616568, -3.53992018, -2.37782251,\n",
       "        -3.06433195, -2.0796718 , -3.33596852, -3.40808614, -3.69385725,\n",
       "        -2.40610465,  0.        , -2.35100826, -2.38935083, -3.91721631,\n",
       "        -3.96146108, -2.58566878, -2.51206583, -3.70142773, -2.99086101],\n",
       "       [-2.18825067, -2.20154003, -2.56770999, -3.01786206, -3.78176378,\n",
       "        -3.44218765, -3.37364638, -2.91772107, -2.31740557, -3.91647391,\n",
       "        -2.98471852, -2.35100826,  0.        , -2.55665398, -3.05983236,\n",
       "        -2.58602402, -2.16091082, -2.9877764 , -3.71338383, -3.33895935],\n",
       "       [-3.77779957, -2.8756539 , -3.56108241, -3.12630477, -3.90942862,\n",
       "        -3.29654188, -3.49773487, -2.33489592, -3.65367712, -3.07710104,\n",
       "        -3.25501136, -2.38935083, -2.55665398,  0.        , -2.92254115,\n",
       "        -2.75481617, -2.59504232, -3.44358147, -2.32413601, -2.06127311],\n",
       "       [-3.2397413 , -3.90927549, -3.24735698, -3.98225189, -3.96593965,\n",
       "        -3.9145769 , -2.8599415 , -2.27162857, -3.52814526, -3.09584535,\n",
       "        -2.55330834, -3.91721631, -3.05983236, -2.92254115,  0.        ,\n",
       "        -2.66201304, -2.76070277, -3.31603515, -3.13856235, -2.57718313],\n",
       "       [-3.18129315, -2.19604478, -3.52306601, -3.72468132, -3.21615205,\n",
       "        -3.61683415, -2.69896842, -3.86253257, -3.4196302 , -2.14265167,\n",
       "        -2.79935121, -3.96146108, -2.58602402, -2.75481617, -2.66201304,\n",
       "         0.        , -2.09857857, -3.76665062, -3.64736027, -3.68409828],\n",
       "       [-3.58456357, -2.23057369, -3.19175524, -3.93250067, -2.30100163,\n",
       "        -2.27806998, -3.72271827, -3.63078135, -2.96581688, -3.26649778,\n",
       "        -3.93966391, -2.58566878, -2.16091082, -2.59504232, -2.76070277,\n",
       "        -2.09857857,  0.        , -3.16691294, -2.48450699, -2.73251828],\n",
       "       [-2.15955794, -3.46740171, -3.20934283, -3.92046542, -3.89718873,\n",
       "        -3.73680923, -2.31621703, -2.1233179 , -3.10545048, -3.65870864,\n",
       "        -3.34553964, -2.51206583, -2.9877764 , -3.44358147, -3.31603515,\n",
       "        -3.76665062, -3.16691294,  0.        , -2.52794028, -3.92374177],\n",
       "       [-3.98207367, -2.04432233, -3.7791927 , -2.64295004, -2.58979244,\n",
       "        -3.52641426, -2.09184461, -3.06521652, -2.32931357, -2.50442904,\n",
       "        -2.84818301, -3.70142773, -3.71338383, -2.32413601, -3.13856235,\n",
       "        -3.64736027, -2.48450699, -2.52794028,  0.        , -2.88199219],\n",
       "       [-2.21891149, -3.03870005, -3.92308309, -3.72544729, -2.9514731 ,\n",
       "        -3.55363408, -3.5311712 , -2.96546991, -2.08281367, -2.63619623,\n",
       "        -2.03949621, -2.99086101, -3.33895935, -2.06127311, -2.57718313,\n",
       "        -3.68409828, -2.73251828, -3.92374177, -2.88199219,  0.        ]])"
      ]
     },
     "execution_count": 35,
     "metadata": {},
     "output_type": "execute_result"
    }
   ],
   "source": [
    "# energy bond matrix [-2,-4]\n",
    "J = np.zeros((nx,ny))\n",
    "def initial_J():\n",
    "    for i in range(nx):\n",
    "        for j in range(ny):\n",
    "            if (i != j and j>i):\n",
    "                J[i,j] = random.uniform(-4.0, -2.0)\n",
    "                J[j,i] = J[i,j]\n",
    "initial_J()\n",
    "J\n",
    "#print(J[5,7] == J[7,5]) # True\n",
    "\n"
   ]
  },
  {
   "cell_type": "code",
   "execution_count": 11,
   "metadata": {},
   "outputs": [],
   "source": [
    "def delta_e(old_x,old_y,new_x,new_y):\n",
    "    return J[new_x,new_y]-J[old_x,old_y]"
   ]
  },
  {
   "cell_type": "code",
   "execution_count": 12,
   "metadata": {},
   "outputs": [],
   "source": [
    "def check_head_tail(new_x,new_y):\n",
    "    if(lattice[new_x,new_y] == 0):\n",
    "        return True\n",
    "    else: \n",
    "        False"
   ]
  },
  {
   "cell_type": "code",
   "execution_count": 13,
   "metadata": {},
   "outputs": [],
   "source": [
    "# check n th amino acid will break or not at new position\n",
    "# def check_break(coordinate,n,generation):\n",
    "#     if(distance(neighbour_x,neighbour_y,new_x,new_y) == 1 and lattice[new_x,new_y] == 0):\n",
    "#         return True\n",
    "#     else:\n",
    "#         False"
   ]
  },
  {
   "cell_type": "code",
   "execution_count": 19,
   "metadata": {},
   "outputs": [
    {
     "data": {
      "text/plain": [
       "array([[0., 0., 0., 0., 0., 0., 0., 0., 0., 0., 0., 0., 0., 0., 0., 0.,\n",
       "        0., 0., 0., 0.],\n",
       "       [0., 0., 0., 0., 0., 0., 0., 0., 0., 0., 0., 0., 0., 0., 0., 0.,\n",
       "        0., 0., 0., 0.],\n",
       "       [0., 0., 0., 0., 0., 0., 0., 0., 0., 0., 0., 0., 0., 0., 0., 0.,\n",
       "        0., 0., 0., 0.],\n",
       "       [0., 0., 0., 0., 0., 0., 0., 0., 0., 0., 0., 0., 0., 0., 0., 0.,\n",
       "        0., 0., 0., 0.],\n",
       "       [0., 0., 0., 0., 0., 0., 0., 0., 0., 0., 0., 0., 0., 0., 0., 0.,\n",
       "        0., 0., 0., 0.],\n",
       "       [0., 0., 0., 0., 0., 0., 0., 0., 0., 0., 0., 0., 0., 0., 0., 0.,\n",
       "        0., 0., 0., 0.],\n",
       "       [0., 0., 0., 0., 0., 0., 0., 0., 0., 0., 0., 0., 0., 0., 0., 0.,\n",
       "        0., 0., 0., 0.],\n",
       "       [0., 0., 0., 0., 0., 0., 0., 0., 0., 0., 0., 0., 0., 0., 0., 0.,\n",
       "        0., 0., 0., 0.],\n",
       "       [0., 0., 0., 0., 0., 0., 0., 0., 0., 0., 0., 0., 0., 0., 0., 0.,\n",
       "        0., 0., 0., 0.],\n",
       "       [0., 0., 0., 0., 0., 0., 0., 0., 0., 0., 0., 0., 0., 0., 0., 0.,\n",
       "        0., 0., 0., 0.],\n",
       "       [0., 0., 0., 1., 1., 1., 1., 1., 0., 0., 0., 0., 0., 0., 0., 0.,\n",
       "        0., 0., 0., 0.],\n",
       "       [0., 0., 0., 0., 0., 0., 0., 0., 0., 0., 0., 0., 0., 0., 0., 0.,\n",
       "        0., 0., 0., 0.],\n",
       "       [0., 0., 0., 0., 0., 0., 0., 0., 0., 0., 0., 0., 0., 0., 0., 0.,\n",
       "        0., 0., 0., 0.],\n",
       "       [0., 0., 0., 0., 0., 0., 0., 0., 0., 0., 0., 0., 0., 0., 0., 0.,\n",
       "        0., 0., 0., 0.],\n",
       "       [0., 0., 0., 0., 0., 0., 0., 0., 0., 0., 0., 0., 0., 0., 0., 0.,\n",
       "        0., 0., 0., 0.],\n",
       "       [0., 0., 0., 0., 0., 0., 0., 0., 0., 0., 0., 0., 0., 0., 0., 0.,\n",
       "        0., 0., 0., 0.],\n",
       "       [0., 0., 0., 0., 0., 0., 0., 0., 0., 0., 0., 0., 0., 0., 0., 0.,\n",
       "        0., 0., 0., 0.],\n",
       "       [0., 0., 0., 0., 0., 0., 0., 0., 0., 0., 0., 0., 0., 0., 0., 0.,\n",
       "        0., 0., 0., 0.],\n",
       "       [0., 0., 0., 0., 0., 0., 0., 0., 0., 0., 0., 0., 0., 0., 0., 0.,\n",
       "        0., 0., 0., 0.],\n",
       "       [0., 0., 0., 0., 0., 0., 0., 0., 0., 0., 0., 0., 0., 0., 0., 0.,\n",
       "        0., 0., 0., 0.]])"
      ]
     },
     "execution_count": 19,
     "metadata": {},
     "output_type": "execute_result"
    }
   ],
   "source": [
    "def total_e(J,lattice):\n",
    "    energy = 0\n",
    "    for i in range(nx):\n",
    "        for j in range(ny):\n",
    "            if(lattice[i,j] !=0):\n",
    "                energy += J[i,j]\n",
    "    return energy\n",
    "\n",
    "total_e(J,lattice)\n",
    "lattice"
   ]
  },
  {
   "cell_type": "code",
   "execution_count": 15,
   "metadata": {},
   "outputs": [],
   "source": [
    "# every 10 gen cal one total energy\n",
    "total_energy =[]\n",
    "# every 10 gen cal one total length\n",
    "total_length =[]"
   ]
  },
  {
   "cell_type": "code",
   "execution_count": null,
   "metadata": {},
   "outputs": [],
   "source": [
    "def nigbour(x,y):\n",
    "    if x < 1:\n",
    "        return [[x,-y],[x,y]]\n",
    "    if y< 1:\n",
    "        return [[x,y],[-x,y]]\n",
    "    return[[x,y],[-x,y],[x,-y],[-x,-y]]\n"
   ]
  },
  {
   "cell_type": "code",
   "execution_count": 16,
   "metadata": {},
   "outputs": [
    {
     "ename": "IndentationError",
     "evalue": "expected an indented block (494629618.py, line 11)",
     "output_type": "error",
     "traceback": [
      "\u001b[0;36m  File \u001b[0;32m\"/var/folders/jd/pyhvlbhj7zq5ljxf6wrlk5xm0000gn/T/ipykernel_30034/494629618.py\"\u001b[0;36m, line \u001b[0;32m11\u001b[0m\n\u001b[0;31m    if (t % 10 == 0):\u001b[0m\n\u001b[0m    ^\u001b[0m\n\u001b[0;31mIndentationError\u001b[0m\u001b[0;31m:\u001b[0m expected an indented block\n"
     ]
    }
   ],
   "source": [
    "# main loop\n",
    "for g in range(number_gen):\n",
    "    new_x_coord = []\n",
    "    new_y_coord = []\n",
    "    for i in range(numebr_amino_acids):\n",
    "        new_e =0\n",
    "        temp_x = protein_coordinate[g][i][0]\n",
    "        temp_y = protein_coordinate[g][i][1]\n",
    "        old_e = \n",
    "        new_x_coord = temp_x + [-1,1][random.randrange(2)]\n",
    "        new_y_coord = temp_y + [-1,1][random.randrange(2)]\n",
    "        #check new coord have other amino acid\n",
    "        if [new_x_coord,new_y_coord] in protein_coordinate[g]:\n",
    "            continue\n",
    "        if (i == 0):\n",
    "            next_amino_x = protein_coordinate[g][i + 1][0]\n",
    "            next_amino_y = protein_coordinate[g][i + 1][1]\n",
    "            if(distance(next_amino_x,next_amino_y,new_x_coord,new_y_coord) != 1):\n",
    "                continue\n",
    "            for k in nigbour(new_x_coord,new_y_coord):\n",
    "                if([next_amino_x,next_amino_y] == k):\n",
    "                    continue\n",
    "                if(k not in protein_coordinate[g]):\n",
    "                    continue\n",
    "                new_e += J[i,protein_coordinate[g].index(k)]\n",
    "        elif (i == (numebr_amino_acids - 1)):\n",
    "            next_amino_x = protein_coordinate[g][i - 1][0]\n",
    "            next_amino_y = protein_coordinate[g][i - 1][1]\n",
    "            if(distance(next_amino_x,next_amino_y,new_x_coord,new_y_coord) != 1):\n",
    "                continue\n",
    "        else:\n",
    "            next_amino_x = protein_coordinate[g][i + 1][0]\n",
    "            next_amino_y = protein_coordinate[g][i + 1][1]\n",
    "            before_amino_x = protein_coordinate[g][i - 1][0]\n",
    "            before_amino_y = protein_coordinate[g][i - 1][1]\n",
    "            if(distance(next_amino_x,next_amino_y,new_x_coord,new_y_coord) != 1 or distance(before_amino_x,before_amino_y,new_x_coord,new_y_coord) != 1):\n",
    "                continue\n",
    "    # save disance and energy every 10 genreations , also for coordinate\n",
    "    if (g % 10 == 0):\n",
    "        dis_temp = distance(protein_coordinate[g][0][0],protein_coordinate[g][0][1],protein_coordinate[g][-1][0],protein_coordinate[g][-1][1])\n",
    "        total_length.append(dis_temp)\n",
    "        energy_temp = total_e(J,lattice)\n",
    "        total_energy.append(energy_temp)\n"
   ]
  },
  {
   "cell_type": "code",
   "execution_count": null,
   "metadata": {},
   "outputs": [],
   "source": [
    "def walks(n):\n",
    "    if n==1:\n",
    "        return [ [ 0 ] ]\n",
    "    L = [ ]\n",
    "    for k in walks (n - 1) :\n",
    "        for i in range ( 4 ) :\n",
    "            L.append ( k+[ i ] )\n",
    "    return L\n",
    "walks(5)"
   ]
  },
  {
   "cell_type": "code",
   "execution_count": 22,
   "metadata": {},
   "outputs": [
    {
     "name": "stdout",
     "output_type": "stream",
     "text": [
      "3\n",
      "[-1, -1]\n"
     ]
    }
   ],
   "source": [
    "pos = [[1,1],[-1,1],[1,-1],[-1,-1]]\n",
    "choice = np.random.randint(0,4)\n",
    "print(choice)\n",
    "print(pos[choice])"
   ]
  },
  {
   "cell_type": "code",
   "execution_count": 28,
   "metadata": {},
   "outputs": [
    {
     "name": "stdout",
     "output_type": "stream",
     "text": [
      "1\n"
     ]
    }
   ],
   "source": [
    "print([-1,1][random.randrange(2)])"
   ]
  },
  {
   "cell_type": "code",
   "execution_count": null,
   "metadata": {},
   "outputs": [],
   "source": []
  }
 ],
 "metadata": {
  "interpreter": {
   "hash": "b0fa6594d8f4cbf19f97940f81e996739fb7646882a419484c72d19e05852a7e"
  },
  "kernelspec": {
   "display_name": "Python 3.9.7 64-bit",
   "name": "python3"
  },
  "language_info": {
   "codemirror_mode": {
    "name": "ipython",
    "version": 3
   },
   "file_extension": ".py",
   "mimetype": "text/x-python",
   "name": "python",
   "nbconvert_exporter": "python",
   "pygments_lexer": "ipython3",
   "version": "3.9.7"
  },
  "orig_nbformat": 4
 },
 "nbformat": 4,
 "nbformat_minor": 2
}
