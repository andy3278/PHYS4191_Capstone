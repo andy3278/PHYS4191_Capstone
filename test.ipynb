{
 "cells": [
  {
   "cell_type": "code",
   "execution_count": 1,
   "metadata": {},
   "outputs": [],
   "source": [
    "import math\n",
    "import numpy as np\n",
    "import pandas as pd\n",
    "from matplotlib import pyplot as plt \n",
    "import random"
   ]
  },
  {
   "cell_type": "code",
   "execution_count": 2,
   "metadata": {},
   "outputs": [],
   "source": [
    "nx = 20\n",
    "ny = 20\n",
    "T0 = 1\n",
    "T1 = 10\n",
    "kB = 1\n",
    "T = np.arange(T0, T1, 0.2) #temperature\n",
    "random.seed(589015328) # this seed should not be changed in order to reproduce result\n",
    "number_gen = 5000\n",
    "\n",
    "numebr_amino_acids = 15"
   ]
  },
  {
   "cell_type": "code",
   "execution_count": 3,
   "metadata": {},
   "outputs": [],
   "source": [
    "def distance(x1, y1, x2, y2):\n",
    "    return math.sqrt((x2-x1)**2+(y2-y1)**2)"
   ]
  },
  {
   "cell_type": "code",
   "execution_count": 16,
   "metadata": {},
   "outputs": [
    {
     "name": "stdout",
     "output_type": "stream",
     "text": [
      "[10, 17, 7, 8, 20, 11, 11, 3, 16, 7, 7, 4, 14, 17, 1]\n"
     ]
    }
   ],
   "source": [
    "def sequence_N_integers(N):\n",
    "    #array of numbers between 1-20, values represent type of amino acid, can repeat\n",
    "    return [random.randrange(1,21) for _ in range(N)]\n",
    "protein_sequence = sequence_N_integers(numebr_amino_acids)\n",
    "print(protein_sequence)"
   ]
  },
  {
   "cell_type": "markdown",
   "metadata": {},
   "source": []
  },
  {
   "cell_type": "code",
   "execution_count": 5,
   "metadata": {},
   "outputs": [
    {
     "data": {
      "text/plain": [
       "[[0, 10],\n",
       " [1, 10],\n",
       " [2, 10],\n",
       " [3, 10],\n",
       " [4, 10],\n",
       " [5, 10],\n",
       " [6, 10],\n",
       " [7, 10],\n",
       " [8, 10],\n",
       " [9, 10],\n",
       " [10, 10],\n",
       " [11, 10],\n",
       " [12, 10],\n",
       " [13, 10],\n",
       " [14, 10]]"
      ]
     },
     "execution_count": 5,
     "metadata": {},
     "output_type": "execute_result"
    }
   ],
   "source": [
    "protein_coordinate = []\n",
    "def initial_protein():\n",
    "    for i in range(numebr_amino_acids):\n",
    "        protein_coordinate.append([i,10])\n",
    "    return protein_coordinate\n",
    "initial_protein()\n",
    "protein_coordinate\n"
   ]
  },
  {
   "cell_type": "code",
   "execution_count": 6,
   "metadata": {},
   "outputs": [],
   "source": [
    "#initialize the lattice 20 by 20\n",
    "lattice = np.zeros((nx,ny))\n",
    "center_x = nx // 2 \n",
    "center_y = ny // 2\n",
    "#initialize lattice with stright protein chain in middle \n",
    "def initial_lattice():\n",
    "    for i in range(nx):\n",
    "        for j in range(ny):\n",
    "            if (i== center_x and j> 2and j < 8):\n",
    "                lattice[i,j] = 1\n",
    "initial_lattice()\n",
    "coord_x = [[10,10,10,10,10]]\n",
    "coord_y = [[3,4,5,6,7]]\n"
   ]
  },
  {
   "cell_type": "code",
   "execution_count": 20,
   "metadata": {},
   "outputs": [
    {
     "data": {
      "text/plain": [
       "array([[-2.20065723, -3.31693122, -3.61596656, -3.98631135, -2.40697493,\n",
       "        -3.46803437, -3.2812417 , -2.96645233, -3.6920157 , -3.24864573,\n",
       "        -3.43217933, -2.70497895, -2.64144718, -3.38337231, -2.03622551,\n",
       "        -3.90875433, -2.31318336, -3.34739382, -2.28083785, -3.59834548],\n",
       "       [-3.31693122, -2.87635722, -3.76569277, -2.00187719, -2.78824741,\n",
       "        -2.53505984, -2.83793492, -2.67899446, -3.83908769, -3.64988102,\n",
       "        -3.27971752, -3.30448203, -3.29972897, -3.4747332 , -3.46949595,\n",
       "        -3.94302703, -3.09012203, -3.95993468, -2.82871689, -3.51176892],\n",
       "       [-3.61596656, -3.76569277, -3.738879  , -3.21472522, -2.4720517 ,\n",
       "        -2.98261869, -3.03861978, -2.40437097, -3.45379684, -3.76172842,\n",
       "        -3.25930381, -3.71247655, -2.5200442 , -2.76616579, -2.82860516,\n",
       "        -3.25039492, -2.58455468, -3.34013709, -3.45738476, -3.16070272],\n",
       "       [-3.98631135, -2.00187719, -3.21472522, -2.80237224, -2.26381612,\n",
       "        -2.46842861, -3.56423087, -3.12875576, -2.54327792, -3.69082182,\n",
       "        -2.64742807, -3.73222094, -3.05422004, -2.49997235, -2.43987015,\n",
       "        -3.55705558, -2.66180691, -2.67180959, -2.77944896, -3.7813157 ],\n",
       "       [-2.40697493, -2.78824741, -2.4720517 , -2.26381612, -3.7819243 ,\n",
       "        -2.29956377, -2.72249774, -3.61987525, -2.96899377, -2.25401176,\n",
       "        -3.17302943, -3.31397323, -2.06901927, -2.14177079, -2.0106005 ,\n",
       "        -2.03413585, -2.29071287, -2.89304353, -2.82225719, -2.40084887],\n",
       "       [-3.46803437, -2.53505984, -2.98261869, -2.46842861, -2.29956377,\n",
       "        -2.48440698, -2.21092276, -3.41975027, -2.76268009, -2.39346771,\n",
       "        -2.66416402, -2.35695106, -3.23902819, -3.37483411, -2.92836337,\n",
       "        -2.60505856, -3.34929567, -3.4683038 , -3.25099231, -3.97776698],\n",
       "       [-3.2812417 , -2.83793492, -3.03861978, -3.56423087, -2.72249774,\n",
       "        -2.21092276, -2.1582492 , -3.75191536, -3.79528368, -2.35781676,\n",
       "        -3.21987227, -2.18671369, -3.57574343, -3.36065633, -2.2206519 ,\n",
       "        -2.20992997, -2.09617389, -3.39895577, -3.86649044, -3.97804173],\n",
       "       [-2.96645233, -2.67899446, -2.40437097, -3.12875576, -3.61987525,\n",
       "        -3.41975027, -3.75191536, -3.86243322, -3.0105561 , -3.58096631,\n",
       "        -3.6472841 , -2.93428748, -2.98540169, -3.33794246, -3.41379316,\n",
       "        -2.67013926, -2.78979263, -3.5091365 , -2.06670953, -2.44347309],\n",
       "       [-3.6920157 , -3.83908769, -3.45379684, -2.54327792, -2.96899377,\n",
       "        -2.76268009, -3.79528368, -3.0105561 , -2.56268846, -3.47421682,\n",
       "        -3.87048885, -3.27675115, -2.89095324, -3.93502671, -2.5717469 ,\n",
       "        -2.34415754, -2.99645508, -3.41052878, -3.78657962, -2.80145347],\n",
       "       [-3.24864573, -3.64988102, -3.76172842, -3.69082182, -2.25401176,\n",
       "        -2.39346771, -2.35781676, -3.58096631, -3.47421682, -2.40629596,\n",
       "        -3.54205045, -2.04985074, -3.45254083, -3.52422695, -2.84218202,\n",
       "        -2.29939656, -3.18189097, -2.46959233, -2.50967953, -2.8702642 ],\n",
       "       [-3.43217933, -3.27971752, -3.25930381, -2.64742807, -3.17302943,\n",
       "        -2.66416402, -3.21987227, -3.6472841 , -3.87048885, -3.54205045,\n",
       "        -2.83775838, -3.93944895, -3.2511558 , -3.59283545, -3.47684874,\n",
       "        -3.70436057, -2.38816254, -3.05916021, -3.06826215, -2.52937792],\n",
       "       [-2.70497895, -3.30448203, -3.71247655, -3.73222094, -3.31397323,\n",
       "        -2.35695106, -2.18671369, -2.93428748, -3.27675115, -2.04985074,\n",
       "        -3.93944895, -2.15464782, -2.45662915, -3.80034941, -3.91607538,\n",
       "        -3.68330603, -3.5509195 , -2.80265732, -2.11562738, -2.86244762],\n",
       "       [-2.64144718, -3.29972897, -2.5200442 , -3.05422004, -2.06901927,\n",
       "        -3.23902819, -3.57574343, -2.98540169, -2.89095324, -3.45254083,\n",
       "        -3.2511558 , -2.45662915, -3.30713071, -2.54347157, -2.16228478,\n",
       "        -3.81447842, -3.33350608, -2.00250586, -2.87374586, -2.14645524],\n",
       "       [-3.38337231, -3.4747332 , -2.76616579, -2.49997235, -2.14177079,\n",
       "        -3.37483411, -3.36065633, -3.33794246, -3.93502671, -3.52422695,\n",
       "        -3.59283545, -3.80034941, -2.54347157, -3.98661027, -2.98598042,\n",
       "        -2.89845874, -2.92812139, -2.01551464, -3.68613344, -2.06861363],\n",
       "       [-2.03622551, -3.46949595, -2.82860516, -2.43987015, -2.0106005 ,\n",
       "        -2.92836337, -2.2206519 , -3.41379316, -2.5717469 , -2.84218202,\n",
       "        -3.47684874, -3.91607538, -2.16228478, -2.98598042, -3.35188951,\n",
       "        -3.3458235 , -2.91998024, -3.72710391, -2.27463256, -2.92259169],\n",
       "       [-3.90875433, -3.94302703, -3.25039492, -3.55705558, -2.03413585,\n",
       "        -2.60505856, -2.20992997, -2.67013926, -2.34415754, -2.29939656,\n",
       "        -3.70436057, -3.68330603, -3.81447842, -2.89845874, -3.3458235 ,\n",
       "        -3.0880255 , -2.83719074, -3.85875888, -3.2521211 , -3.73945199],\n",
       "       [-2.31318336, -3.09012203, -2.58455468, -2.66180691, -2.29071287,\n",
       "        -3.34929567, -2.09617389, -2.78979263, -2.99645508, -3.18189097,\n",
       "        -2.38816254, -3.5509195 , -3.33350608, -2.92812139, -2.91998024,\n",
       "        -2.83719074, -3.59485966, -2.35326971, -3.03512926, -3.38252953],\n",
       "       [-3.34739382, -3.95993468, -3.34013709, -2.67180959, -2.89304353,\n",
       "        -3.4683038 , -3.39895577, -3.5091365 , -3.41052878, -2.46959233,\n",
       "        -3.05916021, -2.80265732, -2.00250586, -2.01551464, -3.72710391,\n",
       "        -3.85875888, -2.35326971, -3.25265046, -2.43691299, -2.44438017],\n",
       "       [-2.28083785, -2.82871689, -3.45738476, -2.77944896, -2.82225719,\n",
       "        -3.25099231, -3.86649044, -2.06670953, -3.78657962, -2.50967953,\n",
       "        -3.06826215, -2.11562738, -2.87374586, -3.68613344, -2.27463256,\n",
       "        -3.2521211 , -3.03512926, -2.43691299, -3.14137263, -3.18534349],\n",
       "       [-3.59834548, -3.51176892, -3.16070272, -3.7813157 , -2.40084887,\n",
       "        -3.97776698, -3.97804173, -2.44347309, -2.80145347, -2.8702642 ,\n",
       "        -2.52937792, -2.86244762, -2.14645524, -2.06861363, -2.92259169,\n",
       "        -3.73945199, -3.38252953, -2.44438017, -3.18534349, -3.09204907]])"
      ]
     },
     "execution_count": 20,
     "metadata": {},
     "output_type": "execute_result"
    }
   ],
   "source": [
    "# energy bond matrix [-2,-4]\n",
    "J = np.zeros((nx,ny))\n",
    "def initial_J():\n",
    "    for i in range(nx):\n",
    "        for j in range(ny):\n",
    "            if (j>=i):\n",
    "                J[i,j] = random.uniform(-4.0, -2.0)\n",
    "                J[j,i] = J[i,j]\n",
    "initial_J()\n",
    "J\n",
    "#print(J[5,7] == J[7,5]) # True\n",
    "\n"
   ]
  },
  {
   "cell_type": "code",
   "execution_count": 8,
   "metadata": {},
   "outputs": [],
   "source": [
    "def delta_e(old_x,old_y,new_x,new_y):\n",
    "    return J[new_x,new_y]-J[old_x,old_y]"
   ]
  },
  {
   "cell_type": "code",
   "execution_count": 9,
   "metadata": {},
   "outputs": [],
   "source": [
    "def check_head_tail(new_x,new_y):\n",
    "    if(lattice[new_x,new_y] == 0):\n",
    "        return True\n",
    "    else: \n",
    "        False"
   ]
  },
  {
   "cell_type": "code",
   "execution_count": 10,
   "metadata": {},
   "outputs": [],
   "source": [
    "# check n th amino acid will break or not at new position\n",
    "# def check_break(coordinate,n,generation):\n",
    "#     if(distance(neighbour_x,neighbour_y,new_x,new_y) == 1 and lattice[new_x,new_y] == 0):\n",
    "#         return True\n",
    "#     else:\n",
    "#         False"
   ]
  },
  {
   "cell_type": "code",
   "execution_count": 11,
   "metadata": {},
   "outputs": [
    {
     "data": {
      "text/plain": [
       "array([[0., 0., 0., 0., 0., 0., 0., 0., 0., 0., 0., 0., 0., 0., 0., 0.,\n",
       "        0., 0., 0., 0.],\n",
       "       [0., 0., 0., 0., 0., 0., 0., 0., 0., 0., 0., 0., 0., 0., 0., 0.,\n",
       "        0., 0., 0., 0.],\n",
       "       [0., 0., 0., 0., 0., 0., 0., 0., 0., 0., 0., 0., 0., 0., 0., 0.,\n",
       "        0., 0., 0., 0.],\n",
       "       [0., 0., 0., 0., 0., 0., 0., 0., 0., 0., 0., 0., 0., 0., 0., 0.,\n",
       "        0., 0., 0., 0.],\n",
       "       [0., 0., 0., 0., 0., 0., 0., 0., 0., 0., 0., 0., 0., 0., 0., 0.,\n",
       "        0., 0., 0., 0.],\n",
       "       [0., 0., 0., 0., 0., 0., 0., 0., 0., 0., 0., 0., 0., 0., 0., 0.,\n",
       "        0., 0., 0., 0.],\n",
       "       [0., 0., 0., 0., 0., 0., 0., 0., 0., 0., 0., 0., 0., 0., 0., 0.,\n",
       "        0., 0., 0., 0.],\n",
       "       [0., 0., 0., 0., 0., 0., 0., 0., 0., 0., 0., 0., 0., 0., 0., 0.,\n",
       "        0., 0., 0., 0.],\n",
       "       [0., 0., 0., 0., 0., 0., 0., 0., 0., 0., 0., 0., 0., 0., 0., 0.,\n",
       "        0., 0., 0., 0.],\n",
       "       [0., 0., 0., 0., 0., 0., 0., 0., 0., 0., 0., 0., 0., 0., 0., 0.,\n",
       "        0., 0., 0., 0.],\n",
       "       [0., 0., 0., 1., 1., 1., 1., 1., 0., 0., 0., 0., 0., 0., 0., 0.,\n",
       "        0., 0., 0., 0.],\n",
       "       [0., 0., 0., 0., 0., 0., 0., 0., 0., 0., 0., 0., 0., 0., 0., 0.,\n",
       "        0., 0., 0., 0.],\n",
       "       [0., 0., 0., 0., 0., 0., 0., 0., 0., 0., 0., 0., 0., 0., 0., 0.,\n",
       "        0., 0., 0., 0.],\n",
       "       [0., 0., 0., 0., 0., 0., 0., 0., 0., 0., 0., 0., 0., 0., 0., 0.,\n",
       "        0., 0., 0., 0.],\n",
       "       [0., 0., 0., 0., 0., 0., 0., 0., 0., 0., 0., 0., 0., 0., 0., 0.,\n",
       "        0., 0., 0., 0.],\n",
       "       [0., 0., 0., 0., 0., 0., 0., 0., 0., 0., 0., 0., 0., 0., 0., 0.,\n",
       "        0., 0., 0., 0.],\n",
       "       [0., 0., 0., 0., 0., 0., 0., 0., 0., 0., 0., 0., 0., 0., 0., 0.,\n",
       "        0., 0., 0., 0.],\n",
       "       [0., 0., 0., 0., 0., 0., 0., 0., 0., 0., 0., 0., 0., 0., 0., 0.,\n",
       "        0., 0., 0., 0.],\n",
       "       [0., 0., 0., 0., 0., 0., 0., 0., 0., 0., 0., 0., 0., 0., 0., 0.,\n",
       "        0., 0., 0., 0.],\n",
       "       [0., 0., 0., 0., 0., 0., 0., 0., 0., 0., 0., 0., 0., 0., 0., 0.,\n",
       "        0., 0., 0., 0.]])"
      ]
     },
     "execution_count": 11,
     "metadata": {},
     "output_type": "execute_result"
    }
   ],
   "source": [
    "def total_e(J,lattice):\n",
    "    energy = 0\n",
    "    for i in range(nx):\n",
    "        for j in range(ny):\n",
    "            if(lattice[i,j] !=0):\n",
    "                energy += J[i,j]\n",
    "    return energy\n",
    "\n",
    "total_e(J,lattice)\n",
    "lattice"
   ]
  },
  {
   "cell_type": "code",
   "execution_count": 12,
   "metadata": {},
   "outputs": [],
   "source": [
    "# every 10 gen cal one total energy\n",
    "total_energy =[]\n",
    "# every 10 gen cal one total length\n",
    "total_length =[]"
   ]
  },
  {
   "cell_type": "code",
   "execution_count": 13,
   "metadata": {},
   "outputs": [],
   "source": [
    "def nigbour(x,y):\n",
    "    if x < 1:\n",
    "        return [[x,-y],[x,y]]\n",
    "    if y< 1:\n",
    "        return [[x,y],[-x,y]]\n",
    "    return[[x,y],[-x,y],[x,-y],[-x,-y]]\n"
   ]
  },
  {
   "cell_type": "code",
   "execution_count": 14,
   "metadata": {},
   "outputs": [
    {
     "ename": "SyntaxError",
     "evalue": "invalid syntax (1658258543.py, line 9)",
     "output_type": "error",
     "traceback": [
      "\u001b[0;36m  File \u001b[0;32m\"/var/folders/jd/pyhvlbhj7zq5ljxf6wrlk5xm0000gn/T/ipykernel_2980/1658258543.py\"\u001b[0;36m, line \u001b[0;32m9\u001b[0m\n\u001b[0;31m    old_e =\u001b[0m\n\u001b[0m            ^\u001b[0m\n\u001b[0;31mSyntaxError\u001b[0m\u001b[0;31m:\u001b[0m invalid syntax\n"
     ]
    }
   ],
   "source": [
    "# main loop\n",
    "for g in range(number_gen):\n",
    "    new_x_coord = []\n",
    "    new_y_coord = []\n",
    "    for i in range(numebr_amino_acids):\n",
    "        new_e =0\n",
    "        temp_x = protein_coordinate[g][i][0]\n",
    "        temp_y = protein_coordinate[g][i][1]\n",
    "        old_e = \n",
    "        new_x_coord = temp_x + [-1,1][random.randrange(2)]\n",
    "        new_y_coord = temp_y + [-1,1][random.randrange(2)]\n",
    "        #check new coord have other amino acid\n",
    "        if [new_x_coord,new_y_coord] in protein_coordinate[g]:\n",
    "            continue\n",
    "        if (i == 0):\n",
    "            next_amino_x = protein_coordinate[g][i + 1][0]\n",
    "            next_amino_y = protein_coordinate[g][i + 1][1]\n",
    "            if(distance(next_amino_x,next_amino_y,new_x_coord,new_y_coord) != 1):\n",
    "                continue\n",
    "            for k in nigbour(new_x_coord,new_y_coord):\n",
    "                if([next_amino_x,next_amino_y] == k):\n",
    "                    continue\n",
    "                if(k not in protein_coordinate[g]):\n",
    "                    continue\n",
    "                new_e += J[i,protein_coordinate[g].index(k)]\n",
    "        elif (i == (numebr_amino_acids - 1)):\n",
    "            next_amino_x = protein_coordinate[g][i - 1][0]\n",
    "            next_amino_y = protein_coordinate[g][i - 1][1]\n",
    "            if(distance(next_amino_x,next_amino_y,new_x_coord,new_y_coord) != 1):\n",
    "                continue\n",
    "        else:\n",
    "            next_amino_x = protein_coordinate[g][i + 1][0]\n",
    "            next_amino_y = protein_coordinate[g][i + 1][1]\n",
    "            before_amino_x = protein_coordinate[g][i - 1][0]\n",
    "            before_amino_y = protein_coordinate[g][i - 1][1]\n",
    "            if(distance(next_amino_x,next_amino_y,new_x_coord,new_y_coord) != 1 or distance(before_amino_x,before_amino_y,new_x_coord,new_y_coord) != 1):\n",
    "                continue\n",
    "    # save disance and energy every 10 genreations , also for coordinate\n",
    "    if (g % 10 == 0):\n",
    "        dis_temp = distance(protein_coordinate[g][0][0],protein_coordinate[g][0][1],protein_coordinate[g][-1][0],protein_coordinate[g][-1][1])\n",
    "        total_length.append(dis_temp)\n",
    "        energy_temp = total_e(J,lattice)\n",
    "        total_energy.append(energy_temp)\n"
   ]
  },
  {
   "cell_type": "code",
   "execution_count": null,
   "metadata": {},
   "outputs": [],
   "source": [
    "def walks(n):\n",
    "    if n==1:\n",
    "        return [ [ 0 ] ]\n",
    "    L = [ ]\n",
    "    for k in walks (n - 1) :\n",
    "        for i in range ( 4 ) :\n",
    "            L.append ( k+[ i ] )\n",
    "    return L\n",
    "walks(5)"
   ]
  },
  {
   "cell_type": "code",
   "execution_count": null,
   "metadata": {},
   "outputs": [
    {
     "name": "stdout",
     "output_type": "stream",
     "text": [
      "3\n",
      "[-1, -1]\n"
     ]
    }
   ],
   "source": [
    "pos = [[1,1],[-1,1],[1,-1],[-1,-1]]\n",
    "choice = np.random.randint(0,4)\n",
    "print(choice)\n",
    "print(pos[choice])"
   ]
  },
  {
   "cell_type": "code",
   "execution_count": null,
   "metadata": {},
   "outputs": [
    {
     "name": "stdout",
     "output_type": "stream",
     "text": [
      "1\n"
     ]
    }
   ],
   "source": [
    "print([-1,1][random.randrange(2)])"
   ]
  },
  {
   "cell_type": "code",
   "execution_count": null,
   "metadata": {},
   "outputs": [],
   "source": []
  }
 ],
 "metadata": {
  "interpreter": {
   "hash": "b0fa6594d8f4cbf19f97940f81e996739fb7646882a419484c72d19e05852a7e"
  },
  "kernelspec": {
   "display_name": "Python 3.9.7 64-bit",
   "name": "python3"
  },
  "language_info": {
   "codemirror_mode": {
    "name": "ipython",
    "version": 3
   },
   "file_extension": ".py",
   "mimetype": "text/x-python",
   "name": "python",
   "nbconvert_exporter": "python",
   "pygments_lexer": "ipython3",
   "version": "3.9.7"
  },
  "orig_nbformat": 4
 },
 "nbformat": 4,
 "nbformat_minor": 2
}
