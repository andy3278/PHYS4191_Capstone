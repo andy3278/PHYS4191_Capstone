{
 "cells": [
  {
   "cell_type": "code",
   "execution_count": 8,
   "metadata": {},
   "outputs": [],
   "source": [
    "import math\n",
    "import numpy as np\n",
    "import pandas as pd\n",
    "from matplotlib import pyplot as plt \n",
    "import random"
   ]
  },
  {
   "cell_type": "code",
   "execution_count": 9,
   "metadata": {},
   "outputs": [],
   "source": [
    "nx = 20\n",
    "ny = 20\n",
    "T0 = 1\n",
    "T1 = 10\n",
    "kB = 1\n",
    "T = np.arange(T0, T1, 0.2) #temperature\n",
    "random.seed(589015328) # this seed should not be changed in order to reproduce result\n",
    "number_gen = 5000\n",
    "\n",
    "numebr_amino_acids = 5"
   ]
  },
  {
   "cell_type": "code",
   "execution_count": 10,
   "metadata": {},
   "outputs": [],
   "source": [
    "def distance(x1, y1, x2, y2):\n",
    "    return math.sqrt((x2-x1)**2+(y2-y1)**2)"
   ]
  },
  {
   "cell_type": "code",
   "execution_count": 19,
   "metadata": {},
   "outputs": [],
   "source": [
    "#initialize the lattice 20 by 20\n",
    "lattice = np.zeros((nx,ny))\n",
    "center_x = nx // 2 \n",
    "center_y = ny // 2\n",
    "#initialize lattice with stright protein chain in middle \n",
    "def initial_lattice():\n",
    "    for i in range(nx):\n",
    "        for j in range(ny):\n",
    "            if (i== center_x and j> 2and j < 8):\n",
    "                lattice[i,j] = 1\n",
    "initial_lattice()\n",
    "coord_x = [[10,10,10,10,10]]\n",
    "coord_y = [[3,4,5,6,7]]\n"
   ]
  },
  {
   "cell_type": "code",
   "execution_count": 13,
   "metadata": {},
   "outputs": [],
   "source": [
    "# energy bond matrix\n",
    "J = np.zeros((nx,ny))\n",
    "def initial_J():\n",
    "    for i in range(nx):\n",
    "        for j in range(ny):\n",
    "            if (i != j and j>i):\n",
    "                J[i,j] = random.uniform(-2.0, 4.0)\n",
    "initial_J()\n"
   ]
  },
  {
   "cell_type": "code",
   "execution_count": null,
   "metadata": {},
   "outputs": [],
   "source": [
    "def delta_e(old_x,old_y,new_x,new_y):\n",
    "    return J[new_x,new_y]-J[old_x,old_y]"
   ]
  },
  {
   "cell_type": "code",
   "execution_count": 18,
   "metadata": {},
   "outputs": [],
   "source": [
    "# every 10 gen cal one total energy\n",
    "total_energy =[]\n",
    "# every 10 gen cal one total length\n",
    "total_length =[]"
   ]
  },
  {
   "cell_type": "code",
   "execution_count": null,
   "metadata": {},
   "outputs": [],
   "source": [
    "# main loop\n",
    "for t in range(number_gen):\n",
    "    new_x_coord = []\n",
    "    new_y_coord = []\n",
    "    for i in range(numebr_amino_acids):\n",
    "        if(dsd):"
   ]
  },
  {
   "cell_type": "code",
   "execution_count": null,
   "metadata": {},
   "outputs": [],
   "source": []
  },
  {
   "cell_type": "code",
   "execution_count": null,
   "metadata": {},
   "outputs": [],
   "source": []
  }
 ],
 "metadata": {
  "interpreter": {
   "hash": "b0fa6594d8f4cbf19f97940f81e996739fb7646882a419484c72d19e05852a7e"
  },
  "kernelspec": {
   "display_name": "Python 3.9.5 64-bit",
   "name": "python3"
  },
  "language_info": {
   "codemirror_mode": {
    "name": "ipython",
    "version": 3
   },
   "file_extension": ".py",
   "mimetype": "text/x-python",
   "name": "python",
   "nbconvert_exporter": "python",
   "pygments_lexer": "ipython3",
   "version": "3.9.5"
  },
  "orig_nbformat": 4
 },
 "nbformat": 4,
 "nbformat_minor": 2
}
