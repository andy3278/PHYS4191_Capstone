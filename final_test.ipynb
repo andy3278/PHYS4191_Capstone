{
 "cells": [
  {
   "cell_type": "code",
   "execution_count": 138,
   "metadata": {},
   "outputs": [],
   "source": [
    "import math\n",
    "import numpy as np\n",
    "import pandas as pd\n",
    "from matplotlib import pyplot as plt \n",
    "import random"
   ]
  },
  {
   "cell_type": "code",
   "execution_count": 139,
   "metadata": {},
   "outputs": [
    {
     "name": "stdout",
     "output_type": "stream",
     "text": [
      "[5.0, 5.5, 6.0]\n",
      "3\n"
     ]
    }
   ],
   "source": [
    "range_of_TT = []\n",
    "i = 5.0\n",
    "while i < 6.5:\n",
    "    range_of_TT.append(i)\n",
    "    i += 0.5\n",
    "print(range_of_TT)\n",
    "print(len(range_of_TT))"
   ]
  },
  {
   "cell_type": "code",
   "execution_count": 140,
   "metadata": {},
   "outputs": [],
   "source": [
    "\n",
    "random.seed(589015328) # this seed should not be changed in order to reproduce result\n",
    "TT = int(10e6)\n",
    "\n",
    "temperature = 1\n",
    "numebr_amino_acids = 15\n",
    "end_of_protein = numebr_amino_acids-1"
   ]
  },
  {
   "cell_type": "code",
   "execution_count": 141,
   "metadata": {},
   "outputs": [],
   "source": [
    "direction = np.zeros(numebr_amino_acids, dtype =int) # initial chain is a straight line\n",
    "protein_coordinate = []\n",
    "coordinate_over_time = []\n",
    "distance_over_time = []\n",
    "energy_over_time  =  [0.0]\n",
    "J = np.zeros((20, 20))\n",
    "protein_sq = []"
   ]
  },
  {
   "cell_type": "code",
   "execution_count": 142,
   "metadata": {},
   "outputs": [
    {
     "name": "stdout",
     "output_type": "stream",
     "text": [
      "[0, 9, 9, 8, 2, 14, 9, 16, 0, 15, 19, 8, 13, 13, 3]\n"
     ]
    }
   ],
   "source": [
    "def sequence_N_integers(N):\n",
    "    #array of numbers between 1-20, values represent type of amino acid, can repeat\n",
    "    return [random.randrange(0,20) for _ in range(N)]\n",
    "protein_sq = sequence_N_integers(numebr_amino_acids)\n",
    "print(protein_sq)"
   ]
  },
  {
   "cell_type": "code",
   "execution_count": 143,
   "metadata": {},
   "outputs": [],
   "source": [
    "def distance(x1, y1, x2, y2):\n",
    "    return math.sqrt((x2-x1)**2+(y2-y1)**2)"
   ]
  },
  {
   "cell_type": "code",
   "execution_count": 144,
   "metadata": {},
   "outputs": [],
   "source": [
    "def diagonal_nigbour(x1, y1):\n",
    "    up_right = [x1 + 1, y1 + 1]\n",
    "    down_right= [x1 + 1, y1 - 1]\n",
    "    down_left = [x1 - 1, y1 - 1]\n",
    "    up_left = [x1 - 1, y1 + 1]\n",
    "    return [up_right, down_right, down_left, up_left]"
   ]
  },
  {
   "cell_type": "code",
   "execution_count": 145,
   "metadata": {},
   "outputs": [],
   "source": [
    "def direct_nigbour(x1,y1):\n",
    "    up= [x1 , y1 + 1]\n",
    "    down= [x1 , y1 - 1]\n",
    "    left = [x1 - 1, y1 ]\n",
    "    right = [x1 - 1, y1]\n",
    "    return [up, down, left, right]"
   ]
  },
  {
   "cell_type": "code",
   "execution_count": 146,
   "metadata": {},
   "outputs": [
    {
     "data": {
      "text/plain": [
       "array([[-2.77323457, -3.01782368, -2.86870745, -2.01942183, -2.69900151,\n",
       "        -3.13463769, -3.3529648 , -2.62621456, -3.2599252 , -3.08979194,\n",
       "        -3.74790596, -2.45271872, -3.76312196, -3.62673276, -2.69574767,\n",
       "        -3.08792459, -2.5252628 , -3.01721918, -2.44847698, -2.26638083],\n",
       "       [-3.01782368, -3.31704799, -2.23126578, -3.08425143, -2.30543422,\n",
       "        -2.73719796, -3.82938603, -3.07447085, -2.45505246, -3.33262639,\n",
       "        -2.32196133, -3.76687637, -2.77906741, -3.26989745, -2.66682432,\n",
       "        -2.56310528, -2.121855  , -3.37635667, -2.9100839 , -2.25436812],\n",
       "       [-2.86870745, -2.23126578, -3.48129058, -3.98008357, -3.12736297,\n",
       "        -2.81698678, -3.23828945, -3.60628614, -3.09373957, -3.36726804,\n",
       "        -2.33859314, -2.52796024, -2.42376574, -3.13930094, -3.55515547,\n",
       "        -2.36226161, -2.22276613, -2.74682593, -3.53534909, -3.73946528],\n",
       "       [-2.01942183, -3.08425143, -3.98008357, -2.78386191, -3.03236354,\n",
       "        -3.39046231, -3.19992442, -3.87357367, -3.96638213, -3.49303329,\n",
       "        -2.66920693, -2.75045668, -2.85742359, -3.09228677, -3.55572808,\n",
       "        -2.34921472, -3.54025041, -3.06628317, -3.61645393, -3.5248715 ],\n",
       "       [-2.69900151, -2.30543422, -3.12736297, -3.03236354, -2.57187911,\n",
       "        -3.0786708 , -2.06550326, -2.65475477, -3.52252332, -3.99959424,\n",
       "        -3.21505819, -3.57150344, -3.75867212, -3.44393347, -2.25245787,\n",
       "        -2.00940397, -2.77720012, -2.49420006, -3.97103464, -2.89769253],\n",
       "       [-3.13463769, -2.73719796, -2.81698678, -3.39046231, -3.0786708 ,\n",
       "        -2.36891118, -3.41534316, -2.70163405, -2.91507057, -2.40673981,\n",
       "        -3.18561114, -2.1241546 , -3.78287338, -2.47605344, -3.81657382,\n",
       "        -2.21851956, -2.38834382, -2.81895753, -3.53858673, -2.67392244],\n",
       "       [-3.3529648 , -3.82938603, -3.23828945, -3.19992442, -2.06550326,\n",
       "        -3.41534316, -2.87795744, -2.18801045, -3.83845329, -3.24003236,\n",
       "        -2.58796796, -3.36112543, -3.28663195, -3.11299368, -2.68806299,\n",
       "        -2.35499716, -3.79975331, -2.50858929, -3.2077218 , -3.90877586],\n",
       "       [-2.62621456, -3.07447085, -3.60628614, -3.87357367, -2.65475477,\n",
       "        -2.70163405, -2.18801045, -3.79805183, -3.6738313 , -3.66541544,\n",
       "        -2.92844125, -3.11908233, -3.42831181, -2.09991128, -3.88420115,\n",
       "        -3.73996088, -2.55698095, -2.91432051, -3.01588221, -3.03962169],\n",
       "       [-3.2599252 , -2.45505246, -3.09373957, -3.96638213, -3.52252332,\n",
       "        -2.91507057, -3.83845329, -3.6738313 , -2.3323815 , -3.7868636 ,\n",
       "        -3.97462403, -2.99206597, -2.11070884, -3.2948322 , -2.52424322,\n",
       "        -2.74869842, -3.1531395 , -3.95968782, -3.77571163, -3.13070434],\n",
       "       [-3.08979194, -3.33262639, -3.36726804, -3.49303329, -3.99959424,\n",
       "        -2.40673981, -3.24003236, -3.66541544, -3.7868636 , -3.2485548 ,\n",
       "        -3.26616772, -2.74964598, -2.07697305, -3.6512747 , -3.63477706,\n",
       "        -3.97842915, -3.211669  , -3.9596768 , -2.25659024, -2.41035692],\n",
       "       [-3.74790596, -2.32196133, -2.33859314, -2.66920693, -3.21505819,\n",
       "        -3.18561114, -2.58796796, -2.92844125, -3.97462403, -3.26616772,\n",
       "        -3.31577569, -2.2784996 , -3.42608378, -3.11820075, -2.14664532,\n",
       "        -2.79832989, -2.54446629, -3.12513288, -2.4961357 , -3.86368243],\n",
       "       [-2.45271872, -3.76687637, -2.52796024, -2.75045668, -3.57150344,\n",
       "        -2.1241546 , -3.36112543, -3.11908233, -2.99206597, -2.74964598,\n",
       "        -2.2784996 , -2.22026601, -3.51854037, -2.87414883, -3.93775119,\n",
       "        -2.59892383, -2.130061  , -2.22065068, -3.53402278, -3.55190558],\n",
       "       [-3.76312196, -2.77906741, -2.42376574, -2.85742359, -3.75867212,\n",
       "        -3.78287338, -3.28663195, -3.42831181, -2.11070884, -2.07697305,\n",
       "        -3.42608378, -3.51854037, -3.52189134, -3.11699519, -3.3792255 ,\n",
       "        -2.07075551, -2.32681183, -3.45231323, -3.94837274, -3.67926415],\n",
       "       [-3.62673276, -3.26989745, -3.13930094, -3.09228677, -3.44393347,\n",
       "        -2.47605344, -3.11299368, -2.09991128, -3.2948322 , -3.6512747 ,\n",
       "        -3.11820075, -2.87414883, -3.11699519, -3.47762324, -2.36875626,\n",
       "        -3.81773709, -3.40010084, -3.46313234, -3.43519292, -2.15093119],\n",
       "       [-2.69574767, -2.66682432, -3.55515547, -3.55572808, -2.25245787,\n",
       "        -3.81657382, -2.68806299, -3.88420115, -2.52424322, -3.63477706,\n",
       "        -2.14664532, -3.93775119, -3.3792255 , -2.36875626, -2.151789  ,\n",
       "        -3.87459529, -2.92138119, -3.70922117, -2.34008131, -2.50613397],\n",
       "       [-3.08792459, -2.56310528, -2.36226161, -2.34921472, -2.00940397,\n",
       "        -2.21851956, -2.35499716, -3.73996088, -2.74869842, -3.97842915,\n",
       "        -2.79832989, -2.59892383, -2.07075551, -3.81773709, -3.87459529,\n",
       "        -3.69679975, -2.95527529, -3.41054604, -2.43794896, -3.45202422],\n",
       "       [-2.5252628 , -2.121855  , -2.22276613, -3.54025041, -2.77720012,\n",
       "        -2.38834382, -3.79975331, -2.55698095, -3.1531395 , -3.211669  ,\n",
       "        -2.54446629, -2.130061  , -2.32681183, -3.40010084, -2.92138119,\n",
       "        -2.95527529, -3.92404204, -2.29044814, -2.46414622, -3.61889877],\n",
       "       [-3.01721918, -3.37635667, -2.74682593, -3.06628317, -2.49420006,\n",
       "        -2.81895753, -2.50858929, -2.91432051, -3.95968782, -3.9596768 ,\n",
       "        -3.12513288, -2.22065068, -3.45231323, -3.46313234, -3.70922117,\n",
       "        -3.41054604, -2.29044814, -3.50945309, -2.43707034, -2.09775125],\n",
       "       [-2.44847698, -2.9100839 , -3.53534909, -3.61645393, -3.97103464,\n",
       "        -3.53858673, -3.2077218 , -3.01588221, -3.77571163, -2.25659024,\n",
       "        -2.4961357 , -3.53402278, -3.94837274, -3.43519292, -2.34008131,\n",
       "        -2.43794896, -2.46414622, -2.43707034, -3.83997559, -3.61368645],\n",
       "       [-2.26638083, -2.25436812, -3.73946528, -3.5248715 , -2.89769253,\n",
       "        -2.67392244, -3.90877586, -3.03962169, -3.13070434, -2.41035692,\n",
       "        -3.86368243, -3.55190558, -3.67926415, -2.15093119, -2.50613397,\n",
       "        -3.45202422, -3.61889877, -2.09775125, -3.61368645, -3.76364489]])"
      ]
     },
     "execution_count": 146,
     "metadata": {},
     "output_type": "execute_result"
    }
   ],
   "source": [
    "def initial_J():\n",
    "    for i in range(20):\n",
    "        for j in range(20):\n",
    "            if (j>=i):\n",
    "                J[i,j] = random.uniform(-4.0, -2.0)\n",
    "                J[j,i] = J[i,j]\n",
    "initial_J()\n",
    "#J[1,12] == J[12,1] # True\n",
    "J"
   ]
  },
  {
   "cell_type": "code",
   "execution_count": 147,
   "metadata": {},
   "outputs": [
    {
     "name": "stdout",
     "output_type": "stream",
     "text": [
      "[[0, 10], [1, 10], [2, 10], [3, 10], [4, 10], [5, 10], [6, 10], [7, 10], [8, 10], [9, 10], [10, 10], [11, 10], [12, 10], [13, 10], [14, 10]]\n"
     ]
    }
   ],
   "source": [
    "\n",
    "def initial_protein():\n",
    "    return [[i,10] for i in range(numebr_amino_acids)]\n",
    "\n",
    "protein_coordinate.append(initial_protein())\n",
    "protein_coordinate[0][0][1]\n",
    "print(protein_coordinate[0])"
   ]
  },
  {
   "cell_type": "code",
   "execution_count": 148,
   "metadata": {},
   "outputs": [],
   "source": [
    "# def total_e(squence, energy, coordinate, t):\n",
    "#     total = 0\n",
    "#     for i in range(numebr_amino_acids):\n",
    "#         temp_protien_type = squence[i]\n",
    "#         temp_coord = direct_nigbour(coordinate[t][i][0],coordinate[t][i][1])\n",
    "#         for j in range(i, numebr_amino_acids):\n",
    "            \n"
   ]
  },
  {
   "cell_type": "code",
   "execution_count": 149,
   "metadata": {},
   "outputs": [],
   "source": [
    "def overlap(x,y,t):\n",
    "    return [x, y] in protein_coordinate[t]\n",
    "#overlap(1,11,0) # False"
   ]
  },
  {
   "cell_type": "code",
   "execution_count": 150,
   "metadata": {},
   "outputs": [],
   "source": [
    "def check_i_zero_break(i, t,new_x,new_y):\n",
    "    next_amino_x = protein_coordinate[t][i + 1][0]\n",
    "    next_amino_y = protein_coordinate[t][i + 1][1]\n",
    "    return (distance(next_amino_x,next_amino_y,new_x,new_y) != 1)\n",
    "    "
   ]
  },
  {
   "cell_type": "code",
   "execution_count": 151,
   "metadata": {},
   "outputs": [],
   "source": [
    "def check_i_last_break(i, t,new_x,new_y):\n",
    "    before_amino_x = protein_coordinate[t][i - 1][0]\n",
    "    before_amino_y = protein_coordinate[t][i - 1][1]\n",
    "    return (distance(before_amino_x,before_amino_y,new_x,new_y) != 1)"
   ]
  },
  {
   "cell_type": "code",
   "execution_count": 152,
   "metadata": {},
   "outputs": [],
   "source": [
    "def check_i_middle_break(i,t,new_x,new_y):\n",
    "    next_amino_x = protein_coordinate[t][i + 1][0]\n",
    "    next_amino_y = protein_coordinate[t][i + 1][1]\n",
    "    before_amino_x = protein_coordinate[t][i - 1][0]\n",
    "    before_amino_y = protein_coordinate[t][i - 1][1]\n",
    "    return(distance(next_amino_x,next_amino_y,new_x,new_y) != 1 or distance(before_amino_x,before_amino_y,new_x,new_y) != 1)"
   ]
  },
  {
   "cell_type": "code",
   "execution_count": 153,
   "metadata": {},
   "outputs": [],
   "source": [
    "# for k in direct_nigbour(new_x,new_y):\n",
    "#         if([next_amino_x,next_amino_y] == k):\n",
    "#             return True\n",
    "#         if(k not in protein_coordinate[t]):\n",
    "#             return True"
   ]
  },
  {
   "cell_type": "code",
   "execution_count": 154,
   "metadata": {},
   "outputs": [],
   "source": [
    "def check_new_e_zero(i,t,new_x,new_y):\n",
    "    en = 0\n",
    "    for pos in direct_nigbour(new_x,new_y): \n",
    "        if (pos in protein_coordinate[t]):\n",
    "            index_next = protein_coordinate[t].index(pos)\n",
    "            if(index_next == i + 1 ):\n",
    "                continue\n",
    "            else:\n",
    "                en += J[protein_sq[i],protein_sq[index_next]]\n",
    "        return en"
   ]
  },
  {
   "cell_type": "code",
   "execution_count": 155,
   "metadata": {},
   "outputs": [],
   "source": [
    "def check_new_e_last(i,t,new_x,new_y):\n",
    "    en = 0\n",
    "    for pos in direct_nigbour(new_x,new_y): \n",
    "        if (pos in protein_coordinate[t]):\n",
    "            index_next = protein_coordinate[t].index(pos)\n",
    "            if(index_next == i - 1 ):\n",
    "                continue\n",
    "            else:\n",
    "                en += J[protein_sq[i],protein_sq[index_next]]\n",
    "        return en"
   ]
  },
  {
   "cell_type": "code",
   "execution_count": 156,
   "metadata": {},
   "outputs": [],
   "source": [
    "def check_new_e_middle(i,t,new_x,new_y):\n",
    "    en = 0\n",
    "    for pos in direct_nigbour(new_x,new_y): \n",
    "        if (pos in protein_coordinate[t]):\n",
    "            index_next = protein_coordinate[t].index(pos)\n",
    "            if index_next in [i - 1, i + 1]:\n",
    "                continue\n",
    "            else:\n",
    "                en += J[protein_sq[i],protein_sq[index_next]]\n",
    "        return en"
   ]
  },
  {
   "cell_type": "code",
   "execution_count": 157,
   "metadata": {},
   "outputs": [],
   "source": [
    "energy_vs_temp_energy = []\n",
    "energy_vs_temp_temp = []\n",
    "energy_vs_temp_length = []\n",
    "\n"
   ]
  },
  {
   "cell_type": "code",
   "execution_count": 158,
   "metadata": {},
   "outputs": [],
   "source": [
    "for temper in range_of_TT:\n",
    "    for t in range(TT): # time or generatation \n",
    "        new_e = 0\n",
    "        new_coord = protein_coordinate[t] # [[],[],[]...,[]]\n",
    "        #loop throught entire protein\n",
    "        for i in range(numebr_amino_acids):\n",
    "            #print(protein_coordinate[t][i][0])\n",
    "            temp_x = protein_coordinate[t][i][0] # x coordinate for 1st protein in generation t\n",
    "            temp_y = protein_coordinate[t][i][1] # y coordinate for 1st protein in generation t\n",
    "            random_dia = diagonal_nigbour(temp_x, temp_y)[random.randrange(4)]\n",
    "            new_x = random_dia[0]\n",
    "            new_y = random_dia[1]\n",
    "\n",
    "            # check overlap\n",
    "            if overlap(new_x, new_y, t):\n",
    "                continue\n",
    "\n",
    "            #check break or not\n",
    "            if (i == 0):\n",
    "                if check_i_zero_break(i,t,new_x,new_y):\n",
    "                    continue\n",
    "                delta_e = check_new_e_zero(i,t,new_x,new_y) - check_new_e_zero(i,t,temp_x,temp_y)\n",
    "                if (delta_e < 0):\n",
    "                    new_coord[i] = [new_x,new_y]\n",
    "                    new_e += delta_e\n",
    "                elif min(1, np.exp(-delta_e/4.5))>np.random.random():\n",
    "                    new_coord[i] = [new_x,new_y]\n",
    "                    new_e += delta_e\n",
    "\n",
    "            elif (i > 0 and i < numebr_amino_acids - 1):\n",
    "                if check_i_middle_break(i,t,new_x, new_y):\n",
    "                    continue\n",
    "                delta_e = check_new_e_middle(i,t,new_x,new_y) - check_new_e_middle(i,t,temp_x,temp_y)\n",
    "                if (delta_e < 0):\n",
    "                    new_coord[i] = [new_x,new_y]\n",
    "                    new_e += delta_e\n",
    "                elif min(1, np.exp(-delta_e/4.5))>np.random.random():\n",
    "                    new_coord[i] = [new_x,new_y]\n",
    "                    new_e += delta_e\n",
    "            elif i == (numebr_amino_acids - 1):\n",
    "                if check_i_last_break(i,t,new_x,new_y):\n",
    "                    continue\n",
    "                delta_e = check_new_e_last(i,t,new_x,new_y) - check_new_e_last(i,t,temp_x,temp_y)\n",
    "                if (delta_e < 0):\n",
    "                    new_coord[i] = [new_x,new_y]\n",
    "                    new_e += delta_e\n",
    "                elif min(1, np.exp(-delta_e/4.5))>np.random.random():\n",
    "                    new_coord[i] = [new_x,new_y]\n",
    "                    new_e += delta_e\n",
    "                \n",
    "                # update protein coordinate\n",
    "        protein_coordinate.append(new_coord)\n",
    "        # update everything after each generation\n",
    "        # update end to end distance \n",
    "        temp_dis = distance(protein_coordinate[t][0][0],protein_coordinate[t][0][1], protein_coordinate[t][-1][0],protein_coordinate[t][-1][1])\n",
    "        distance_over_time.append(temp_dis)\n",
    "        energy_over_time.append(new_e / 2.0)\n",
    "        coordinate_over_time.append(new_coord)\n",
    "    energy_vs_temp_energy.append(np.mean(energy_over_time))\n",
    "    energy_vs_temp_length.append(np.mean(distance_over_time))\n",
    "\n"
   ]
  },
  {
   "cell_type": "code",
   "execution_count": 159,
   "metadata": {},
   "outputs": [],
   "source": [
    "# ls  = [[],[]]\n",
    "# ls[0] = [1,2]\n",
    "# ls[1] = [2,3]\n",
    "# print(ls)"
   ]
  },
  {
   "cell_type": "markdown",
   "metadata": {},
   "source": []
  },
  {
   "cell_type": "code",
   "execution_count": 160,
   "metadata": {},
   "outputs": [],
   "source": [
    "#print(coordinate_over_time[-1])\n",
    "#print(distance_over_time)\n",
    "#print(energy_over_time)"
   ]
  },
  {
   "cell_type": "code",
   "execution_count": null,
   "metadata": {},
   "outputs": [],
   "source": []
  },
  {
   "cell_type": "code",
   "execution_count": 161,
   "metadata": {},
   "outputs": [],
   "source": [
    "every_nth_dis = distance_over_time[::1000]\n",
    "every_nth_energy = energy_over_time[::1000]"
   ]
  },
  {
   "cell_type": "code",
   "execution_count": 162,
   "metadata": {},
   "outputs": [
    {
     "data": {
      "image/png": "[encoded data removed]",
      "text/plain": [
       "<Figure size 432x288 with 1 Axes>"
      ]
     },
     "metadata": {
      "needs_background": "light"
     },
     "output_type": "display_data"
    }
   ],
   "source": [
    "plt.plot(range(len(every_nth_dis)),every_nth_dis,linewidth=1.0)\n",
    "plt.title('Length versus time at T = 1')\n",
    "plt.xlabel(\"time(*1000*10^5 Monte Carlo step )\")\n",
    "plt.ylabel('Length (end to end)')\n",
    "plt.show()"
   ]
  },
  {
   "cell_type": "code",
   "execution_count": 163,
   "metadata": {},
   "outputs": [
    {
     "data": {
      "image/png": "[encoded data removed]",
      "text/plain": [
       "<Figure size 432x288 with 1 Axes>"
      ]
     },
     "metadata": {
      "needs_background": "light"
     },
     "output_type": "display_data"
    }
   ],
   "source": [
    "plt.plot(range(len(every_nth_energy)),every_nth_energy,linewidth=1.0)\n",
    "plt.title('Energy versus time at T = 1')\n",
    "plt.xlabel(\"time(*10^5 Monte Carlo step )\")\n",
    "plt.ylabel('Energy (in unit of kB)')\n",
    "plt.show()"
   ]
  },
  {
   "cell_type": "code",
   "execution_count": 164,
   "metadata": {},
   "outputs": [
    {
     "name": "stdout",
     "output_type": "stream",
     "text": [
      "[167, 167, 168, 168, 167, 167, 168, 168, 169, 170, 170, 171, 172, 173, 174]\n",
      "[7405, 7404, 7404, 7403, 7403, 7402, 7402, 7401, 7401, 7401, 7400, 7400, 7400, 7400, 7400]\n"
     ]
    }
   ],
   "source": [
    "x = []\n",
    "y = []\n",
    "for i in range(len(protein_coordinate[-1])):\n",
    "    x.append(protein_coordinate[-1][i][0])\n",
    "    y.append(protein_coordinate[-1][i][1])\n",
    "print(x)\n",
    "print(y)\n",
    "protein = np.array(protein_sq)"
   ]
  },
  {
   "cell_type": "code",
   "execution_count": 165,
   "metadata": {},
   "outputs": [
    {
     "data": {
      "image/png": "[encoded data removed]",
      "text/plain": [
       "<Figure size 432x288 with 1 Axes>"
      ]
     },
     "metadata": {
      "needs_background": "light"
     },
     "output_type": "display_data"
    }
   ],
   "source": [
    "plt.plot(x, y, 'k-', zorder=1)  # straight lines\n",
    "# large dots colored via the 'tab20' colormap, set zorder=3 to draw the dots on top of the lines\n",
    "plt.scatter(x, y,  s=200, zorder=3) \n",
    "\n",
    "plt.axis('off') # don't show the axes\n",
    "plt.margins(0.1) # enough margin so that the large scatter dots don't touch the borders\n",
    "plt.gca().set_aspect('equal') # equal distances in x and y direction \n",
    "plt.show()"
   ]
  },
  {
   "cell_type": "code",
   "execution_count": 166,
   "metadata": {},
   "outputs": [],
   "source": [
    "# range_of_TT = range(1,10)\n",
    "# print(type(range_of_TT))\n",
    "# for i in range_of_TT:\n",
    "#     print(i)"
   ]
  },
  {
   "cell_type": "code",
   "execution_count": 167,
   "metadata": {},
   "outputs": [
    {
     "data": {
      "image/png": "[encoded data removed]",
      "text/plain": [
       "<Figure size 432x288 with 1 Axes>"
      ]
     },
     "metadata": {
      "needs_background": "light"
     },
     "output_type": "display_data"
    }
   ],
   "source": [
    "plt.scatter(range_of_TT,energy_vs_temp_energy)\n",
    "plt.title('Energy versus Temperature')\n",
    "plt.xlabel('Temperature')\n",
    "plt.ylabel('Energy')\n",
    "plt.show()"
   ]
  },
  {
   "cell_type": "code",
   "execution_count": 168,
   "metadata": {},
   "outputs": [
    {
     "data": {
      "image/png": "[encoded data removed]",
      "text/plain": [
       "<Figure size 432x288 with 1 Axes>"
      ]
     },
     "metadata": {
      "needs_background": "light"
     },
     "output_type": "display_data"
    }
   ],
   "source": [
    "plt.scatter(range_of_TT,energy_vs_temp_length)\n",
    "plt.title('Length versus Temperature')\n",
    "plt.xlabel('Temperature')\n",
    "plt.ylabel('Length')\n",
    "plt.show()"
   ]
  },
  {
   "cell_type": "code",
   "execution_count": 169,
   "metadata": {},
   "outputs": [
    {
     "name": "stdout",
     "output_type": "stream",
     "text": [
      "[-0.004029306117536584, -0.004020053495344604, -0.0040234247326900235]\n",
      "[5.479080781898463, 5.49472902895095, 5.497549749157742]\n"
     ]
    }
   ],
   "source": [
    "print(energy_vs_temp_energy)\n",
    "print(energy_vs_temp_length)"
   ]
  },
  {
   "cell_type": "code",
   "execution_count": 170,
   "metadata": {},
   "outputs": [
    {
     "ename": "ValueError",
     "evalue": "x and y must be the same size",
     "output_type": "error",
     "traceback": [
      "\u001b[0;31m---------------------------------------------------------------------------\u001b[0m",
      "\u001b[0;31mValueError\u001b[0m                                Traceback (most recent call last)",
      "\u001b[0;32m/var/folders/jd/pyhvlbhj7zq5ljxf6wrlk5xm0000gn/T/ipykernel_78205/2638108301.py\u001b[0m in \u001b[0;36m<module>\u001b[0;34m\u001b[0m\n\u001b[0;32m----> 1\u001b[0;31m \u001b[0mplt\u001b[0m\u001b[0;34m.\u001b[0m\u001b[0mscatter\u001b[0m\u001b[0;34m(\u001b[0m\u001b[0;34m[\u001b[0m\u001b[0;36m0.5\u001b[0m\u001b[0;34m,\u001b[0m\u001b[0;36m1.0\u001b[0m\u001b[0;34m,\u001b[0m\u001b[0;36m1.5\u001b[0m\u001b[0;34m,\u001b[0m\u001b[0;36m2.0\u001b[0m\u001b[0;34m,\u001b[0m\u001b[0;36m2.5\u001b[0m\u001b[0;34m,\u001b[0m\u001b[0;36m3.0\u001b[0m\u001b[0;34m,\u001b[0m\u001b[0;36m3.5\u001b[0m\u001b[0;34m,\u001b[0m\u001b[0;36m4.0\u001b[0m\u001b[0;34m,\u001b[0m\u001b[0;36m4.5\u001b[0m\u001b[0;34m,\u001b[0m\u001b[0;36m5.0\u001b[0m\u001b[0;34m,\u001b[0m\u001b[0;36m5.5\u001b[0m\u001b[0;34m,\u001b[0m\u001b[0;36m6.0\u001b[0m\u001b[0;34m,\u001b[0m\u001b[0;36m6.5\u001b[0m\u001b[0;34m,\u001b[0m\u001b[0;36m7.0\u001b[0m\u001b[0;34m,\u001b[0m\u001b[0;36m7.5\u001b[0m\u001b[0;34m,\u001b[0m\u001b[0;36m8.0\u001b[0m\u001b[0;34m,\u001b[0m\u001b[0;36m8.5\u001b[0m\u001b[0;34m,\u001b[0m\u001b[0;36m9.0\u001b[0m\u001b[0;34m,\u001b[0m\u001b[0;36m9.5\u001b[0m\u001b[0;34m]\u001b[0m\u001b[0;34m,\u001b[0m\u001b[0menergy_vs_temp_energy\u001b[0m\u001b[0;34m)\u001b[0m\u001b[0;34m\u001b[0m\u001b[0;34m\u001b[0m\u001b[0m\n\u001b[0m\u001b[1;32m      2\u001b[0m \u001b[0mplt\u001b[0m\u001b[0;34m.\u001b[0m\u001b[0mtitle\u001b[0m\u001b[0;34m(\u001b[0m\u001b[0;34m'energy versus tmeperature'\u001b[0m\u001b[0;34m)\u001b[0m\u001b[0;34m\u001b[0m\u001b[0;34m\u001b[0m\u001b[0m\n\u001b[1;32m      3\u001b[0m \u001b[0mplt\u001b[0m\u001b[0;34m.\u001b[0m\u001b[0mxlabel\u001b[0m\u001b[0;34m(\u001b[0m\u001b[0;34m'temperature'\u001b[0m\u001b[0;34m)\u001b[0m\u001b[0;34m\u001b[0m\u001b[0;34m\u001b[0m\u001b[0m\n\u001b[1;32m      4\u001b[0m \u001b[0mplt\u001b[0m\u001b[0;34m.\u001b[0m\u001b[0mylabel\u001b[0m\u001b[0;34m(\u001b[0m\u001b[0;34m'energy'\u001b[0m\u001b[0;34m)\u001b[0m\u001b[0;34m\u001b[0m\u001b[0;34m\u001b[0m\u001b[0m\n\u001b[1;32m      5\u001b[0m \u001b[0mplt\u001b[0m\u001b[0;34m.\u001b[0m\u001b[0mshow\u001b[0m\u001b[0;34m(\u001b[0m\u001b[0;34m)\u001b[0m\u001b[0;34m\u001b[0m\u001b[0;34m\u001b[0m\u001b[0m\n",
      "\u001b[0;32m/opt/homebrew/lib/python3.9/site-packages/matplotlib/pyplot.py\u001b[0m in \u001b[0;36mscatter\u001b[0;34m(x, y, s, c, marker, cmap, norm, vmin, vmax, alpha, linewidths, edgecolors, plotnonfinite, data, **kwargs)\u001b[0m\n\u001b[1;32m   3066\u001b[0m         \u001b[0mvmin\u001b[0m\u001b[0;34m=\u001b[0m\u001b[0;32mNone\u001b[0m\u001b[0;34m,\u001b[0m \u001b[0mvmax\u001b[0m\u001b[0;34m=\u001b[0m\u001b[0;32mNone\u001b[0m\u001b[0;34m,\u001b[0m \u001b[0malpha\u001b[0m\u001b[0;34m=\u001b[0m\u001b[0;32mNone\u001b[0m\u001b[0;34m,\u001b[0m \u001b[0mlinewidths\u001b[0m\u001b[0;34m=\u001b[0m\u001b[0;32mNone\u001b[0m\u001b[0;34m,\u001b[0m \u001b[0;34m*\u001b[0m\u001b[0;34m,\u001b[0m\u001b[0;34m\u001b[0m\u001b[0;34m\u001b[0m\u001b[0m\n\u001b[1;32m   3067\u001b[0m         edgecolors=None, plotnonfinite=False, data=None, **kwargs):\n\u001b[0;32m-> 3068\u001b[0;31m     __ret = gca().scatter(\n\u001b[0m\u001b[1;32m   3069\u001b[0m         \u001b[0mx\u001b[0m\u001b[0;34m,\u001b[0m \u001b[0my\u001b[0m\u001b[0;34m,\u001b[0m \u001b[0ms\u001b[0m\u001b[0;34m=\u001b[0m\u001b[0ms\u001b[0m\u001b[0;34m,\u001b[0m \u001b[0mc\u001b[0m\u001b[0;34m=\u001b[0m\u001b[0mc\u001b[0m\u001b[0;34m,\u001b[0m \u001b[0mmarker\u001b[0m\u001b[0;34m=\u001b[0m\u001b[0mmarker\u001b[0m\u001b[0;34m,\u001b[0m \u001b[0mcmap\u001b[0m\u001b[0;34m=\u001b[0m\u001b[0mcmap\u001b[0m\u001b[0;34m,\u001b[0m \u001b[0mnorm\u001b[0m\u001b[0;34m=\u001b[0m\u001b[0mnorm\u001b[0m\u001b[0;34m,\u001b[0m\u001b[0;34m\u001b[0m\u001b[0;34m\u001b[0m\u001b[0m\n\u001b[1;32m   3070\u001b[0m         \u001b[0mvmin\u001b[0m\u001b[0;34m=\u001b[0m\u001b[0mvmin\u001b[0m\u001b[0;34m,\u001b[0m \u001b[0mvmax\u001b[0m\u001b[0;34m=\u001b[0m\u001b[0mvmax\u001b[0m\u001b[0;34m,\u001b[0m \u001b[0malpha\u001b[0m\u001b[0;34m=\u001b[0m\u001b[0malpha\u001b[0m\u001b[0;34m,\u001b[0m \u001b[0mlinewidths\u001b[0m\u001b[0;34m=\u001b[0m\u001b[0mlinewidths\u001b[0m\u001b[0;34m,\u001b[0m\u001b[0;34m\u001b[0m\u001b[0;34m\u001b[0m\u001b[0m\n",
      "\u001b[0;32m/opt/homebrew/lib/python3.9/site-packages/matplotlib/__init__.py\u001b[0m in \u001b[0;36minner\u001b[0;34m(ax, data, *args, **kwargs)\u001b[0m\n\u001b[1;32m   1359\u001b[0m     \u001b[0;32mdef\u001b[0m \u001b[0minner\u001b[0m\u001b[0;34m(\u001b[0m\u001b[0max\u001b[0m\u001b[0;34m,\u001b[0m \u001b[0;34m*\u001b[0m\u001b[0margs\u001b[0m\u001b[0;34m,\u001b[0m \u001b[0mdata\u001b[0m\u001b[0;34m=\u001b[0m\u001b[0;32mNone\u001b[0m\u001b[0;34m,\u001b[0m \u001b[0;34m**\u001b[0m\u001b[0mkwargs\u001b[0m\u001b[0;34m)\u001b[0m\u001b[0;34m:\u001b[0m\u001b[0;34m\u001b[0m\u001b[0;34m\u001b[0m\u001b[0m\n\u001b[1;32m   1360\u001b[0m         \u001b[0;32mif\u001b[0m \u001b[0mdata\u001b[0m \u001b[0;32mis\u001b[0m \u001b[0;32mNone\u001b[0m\u001b[0;34m:\u001b[0m\u001b[0;34m\u001b[0m\u001b[0;34m\u001b[0m\u001b[0m\n\u001b[0;32m-> 1361\u001b[0;31m             \u001b[0;32mreturn\u001b[0m \u001b[0mfunc\u001b[0m\u001b[0;34m(\u001b[0m\u001b[0max\u001b[0m\u001b[0;34m,\u001b[0m \u001b[0;34m*\u001b[0m\u001b[0mmap\u001b[0m\u001b[0;34m(\u001b[0m\u001b[0msanitize_sequence\u001b[0m\u001b[0;34m,\u001b[0m \u001b[0margs\u001b[0m\u001b[0;34m)\u001b[0m\u001b[0;34m,\u001b[0m \u001b[0;34m**\u001b[0m\u001b[0mkwargs\u001b[0m\u001b[0;34m)\u001b[0m\u001b[0;34m\u001b[0m\u001b[0;34m\u001b[0m\u001b[0m\n\u001b[0m\u001b[1;32m   1362\u001b[0m \u001b[0;34m\u001b[0m\u001b[0m\n\u001b[1;32m   1363\u001b[0m         \u001b[0mbound\u001b[0m \u001b[0;34m=\u001b[0m \u001b[0mnew_sig\u001b[0m\u001b[0;34m.\u001b[0m\u001b[0mbind\u001b[0m\u001b[0;34m(\u001b[0m\u001b[0max\u001b[0m\u001b[0;34m,\u001b[0m \u001b[0;34m*\u001b[0m\u001b[0margs\u001b[0m\u001b[0;34m,\u001b[0m \u001b[0;34m**\u001b[0m\u001b[0mkwargs\u001b[0m\u001b[0;34m)\u001b[0m\u001b[0;34m\u001b[0m\u001b[0;34m\u001b[0m\u001b[0m\n",
      "\u001b[0;32m/opt/homebrew/lib/python3.9/site-packages/matplotlib/axes/_axes.py\u001b[0m in \u001b[0;36mscatter\u001b[0;34m(self, x, y, s, c, marker, cmap, norm, vmin, vmax, alpha, linewidths, edgecolors, plotnonfinite, **kwargs)\u001b[0m\n\u001b[1;32m   4496\u001b[0m         \u001b[0my\u001b[0m \u001b[0;34m=\u001b[0m \u001b[0mnp\u001b[0m\u001b[0;34m.\u001b[0m\u001b[0mma\u001b[0m\u001b[0;34m.\u001b[0m\u001b[0mravel\u001b[0m\u001b[0;34m(\u001b[0m\u001b[0my\u001b[0m\u001b[0;34m)\u001b[0m\u001b[0;34m\u001b[0m\u001b[0;34m\u001b[0m\u001b[0m\n\u001b[1;32m   4497\u001b[0m         \u001b[0;32mif\u001b[0m \u001b[0mx\u001b[0m\u001b[0;34m.\u001b[0m\u001b[0msize\u001b[0m \u001b[0;34m!=\u001b[0m \u001b[0my\u001b[0m\u001b[0;34m.\u001b[0m\u001b[0msize\u001b[0m\u001b[0;34m:\u001b[0m\u001b[0;34m\u001b[0m\u001b[0;34m\u001b[0m\u001b[0m\n\u001b[0;32m-> 4498\u001b[0;31m             \u001b[0;32mraise\u001b[0m \u001b[0mValueError\u001b[0m\u001b[0;34m(\u001b[0m\u001b[0;34m\"x and y must be the same size\"\u001b[0m\u001b[0;34m)\u001b[0m\u001b[0;34m\u001b[0m\u001b[0;34m\u001b[0m\u001b[0m\n\u001b[0m\u001b[1;32m   4499\u001b[0m \u001b[0;34m\u001b[0m\u001b[0m\n\u001b[1;32m   4500\u001b[0m         \u001b[0;32mif\u001b[0m \u001b[0ms\u001b[0m \u001b[0;32mis\u001b[0m \u001b[0;32mNone\u001b[0m\u001b[0;34m:\u001b[0m\u001b[0;34m\u001b[0m\u001b[0;34m\u001b[0m\u001b[0m\n",
      "\u001b[0;31mValueError\u001b[0m: x and y must be the same size"
     ]
    },
    {
     "data": {
      "image/png": "[encoded data removed]",
      "text/plain": [
       "<Figure size 432x288 with 1 Axes>"
      ]
     },
     "metadata": {
      "needs_background": "light"
     },
     "output_type": "display_data"
    }
   ],
   "source": [
    "plt.scatter([0.5,1.0,1.5,2.0,2.5,3.0,3.5,4.0,4.5,5.0,5.5,6.0,6.5,7.0,7.5,8.0,8.5,9.0,9.5],energy_vs_temp_energy)\n",
    "plt.title('energy versus tmeperature')\n",
    "plt.xlabel('temperature')\n",
    "plt.ylabel('energy')\n",
    "plt.show()"
   ]
  },
  {
   "cell_type": "code",
   "execution_count": null,
   "metadata": {},
   "outputs": [
    {
     "data": {
      "image/png": "[encoded data removed]",
      "text/plain": [
       "<Figure size 432x288 with 1 Axes>"
      ]
     },
     "metadata": {
      "needs_background": "light"
     },
     "output_type": "display_data"
    }
   ],
   "source": [
    "kk = [-0.00013988086586254306, -0.0003763852195512058, -0.0010215348538788632, -0.001732411217159116, -0.0022648166355634432, -0.0026561819455760798, -0.002907458958205845, -0.003073721750444946, -0.0031788175487762623, -0.003237958646745721, -0.003265276506123856, -0.0032648516003949937, -0.00326604562958725, -0.003245407875636301, -0.0032225093634406206, -0.003190996284202452, -0.0031543240576433385, -0.003115285080018983, -0.00307876413161694]\n",
    "nega = [element * -1 for element in kk]\n",
    "yup = [0.5,1.0,1.5,2.0,2.5,3.0,3.5,4.0,4.5,5.0,5.5,6.0,6.5,7.0,7.5,8.0,8.5,9.0,9.5]\n",
    "plt.scatter(yup,nega)\n",
    "plt.title('energy versus tmeperature')\n",
    "plt.xlabel('temperature')\n",
    "plt.ylabel('energy')\n",
    "plt.show()"
   ]
  }
 ],
 "metadata": {
  "interpreter": {
   "hash": "b0fa6594d8f4cbf19f97940f81e996739fb7646882a419484c72d19e05852a7e"
  },
  "kernelspec": {
   "display_name": "Python 3.9.7 64-bit",
   "language": "python",
   "name": "python3"
  },
  "language_info": {
   "codemirror_mode": {
    "name": "ipython",
    "version": 3
   },
   "file_extension": ".py",
   "mimetype": "text/x-python",
   "name": "python",
   "nbconvert_exporter": "python",
   "pygments_lexer": "ipython3",
   "version": "3.9.7"
  },
  "orig_nbformat": 4
 },
 "nbformat": 4,
 "nbformat_minor": 2
}
