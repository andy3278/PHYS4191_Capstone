{
 "cells": [
  {
   "cell_type": "code",
   "execution_count": 1,
   "metadata": {},
   "outputs": [],
   "source": [
    "import math\n",
    "import numpy as np\n",
    "import pandas as pd\n",
    "from matplotlib import pyplot as plt \n",
    "import random"
   ]
  },
  {
   "cell_type": "code",
   "execution_count": 34,
   "metadata": {},
   "outputs": [],
   "source": [
    "\n",
    "random.seed(589015328) # this seed should not be changed in order to reproduce result\n",
    "TT = 5000\n",
    "\n",
    "numebr_amino_acids = 15"
   ]
  },
  {
   "cell_type": "code",
   "execution_count": 27,
   "metadata": {},
   "outputs": [],
   "source": [
    "direction = np.zeros(numebr_amino_acids, dtype =int) # initial chain is a straight line\n",
    "protein_coordinate = []\n",
    "J = np.zeros((numebr_amino_acids, numebr_amino_acids))\n",
    "protein_sq = []"
   ]
  },
  {
   "cell_type": "code",
   "execution_count": 7,
   "metadata": {},
   "outputs": [
    {
     "name": "stdout",
     "output_type": "stream",
     "text": [
      "[20, 13, 16, 14, 19, 7, 1, 14, 11, 5, 9, 12, 6, 15, 3]\n"
     ]
    }
   ],
   "source": [
    "def sequence_N_integers(N):\n",
    "    #array of numbers between 1-20, values represent type of amino acid, can repeat\n",
    "    return [random.randrange(1,21) for _ in range(N)]\n",
    "protein_sq = sequence_N_integers(numebr_amino_acids)\n",
    "print(protein_sq)"
   ]
  },
  {
   "cell_type": "code",
   "execution_count": 35,
   "metadata": {},
   "outputs": [],
   "source": [
    "def distance(x1, y1, x2, y2):\n",
    "    return math.sqrt((x2-x1)**2+(y2-y1)**2)"
   ]
  },
  {
   "cell_type": "code",
   "execution_count": 11,
   "metadata": {},
   "outputs": [],
   "source": [
    "def diagonal_nigbour(x1, y1):\n",
    "    up_right = [x1 + 1, y1 + 1]\n",
    "    down_right= [x1 + 1, y1 - 1]\n",
    "    down_left = [x1 - 1, y1 - 1]\n",
    "    up_left = [x1 - 1, y1 + 1]\n",
    "    return [up_right, down_right, down_left, up_left]"
   ]
  },
  {
   "cell_type": "code",
   "execution_count": 20,
   "metadata": {},
   "outputs": [],
   "source": [
    "def direct_nigbour(x1,y1):\n",
    "    up= [x1 , y1 + 1]\n",
    "    down= [x1 , y1 - 1]\n",
    "    left = [x1 - 1, y1 ]\n",
    "    right = [x1 - 1, y1]\n",
    "    return [up, down, left, right]"
   ]
  },
  {
   "cell_type": "code",
   "execution_count": 12,
   "metadata": {},
   "outputs": [
    {
     "data": {
      "text/plain": [
       "array([[-2.26317916, -2.50431138, -3.43206054, -2.14616161, -2.014039  ,\n",
       "        -2.58307223, -3.07264055, -2.97277883, -3.01558973, -3.47475689,\n",
       "        -2.19796018, -2.18825067, -3.77779957, -3.2397413 , -3.18129315],\n",
       "       [-2.50431138, -3.58456357, -2.15955794, -3.98207367, -2.21891149,\n",
       "        -3.73118856, -3.48257021, -3.64469   , -3.82842393, -2.47637475,\n",
       "        -3.97606   , -3.22118453, -3.16050379, -3.4465406 , -2.13597224],\n",
       "       [-3.43206054, -2.15955794, -2.20154003, -2.8756539 , -3.90927549,\n",
       "        -2.19604478, -2.23057369, -3.46740171, -2.04432233, -3.03870005,\n",
       "        -3.9288117 , -2.79744936, -2.57353101, -3.44747079, -2.66955342],\n",
       "       [-2.14616161, -3.98207367, -2.8756539 , -2.35136801, -2.57864838,\n",
       "        -3.78232756, -2.38616568, -2.56770999, -3.56108241, -3.24735698,\n",
       "        -3.52306601, -3.19175524, -3.20934283, -3.7791927 , -3.92308309],\n",
       "       [-2.014039  , -2.21891149, -3.90927549, -2.57864838, -2.16718715,\n",
       "        -3.99084456, -2.09916033, -2.22540503, -2.26139822, -3.6628827 ,\n",
       "        -3.60542895, -3.53992018, -3.01786206, -3.12630477, -3.98225189],\n",
       "       [-2.58307223, -3.73118856, -2.19604478, -3.78232756, -3.99084456,\n",
       "        -3.72468132, -3.93250067, -3.92046542, -2.64295004, -3.72544729,\n",
       "        -2.18751266, -2.61060141, -3.6743215 , -2.94796871, -2.83094196],\n",
       "       [-3.07264055, -3.48257021, -2.23057369, -2.38616568, -2.09916033,\n",
       "        -3.93250067, -3.85360679, -2.37782251, -3.78176378, -3.90942862,\n",
       "        -3.96593965, -3.21615205, -2.30100163, -3.89718873, -2.58979244],\n",
       "       [-2.97277883, -3.64469   , -3.46740171, -2.56770999, -2.22540503,\n",
       "        -3.92046542, -2.37782251, -2.9514731 , -3.75567668, -2.11046941,\n",
       "        -3.32507036, -3.53575391, -2.9939949 , -3.06433195, -3.44218765],\n",
       "       [-3.01558973, -3.82842393, -2.04432233, -3.56108241, -2.26139822,\n",
       "        -2.64295004, -3.78176378, -3.75567668, -3.29654188, -3.9145769 ,\n",
       "        -3.61683415, -2.27806998, -3.73680923, -3.52641426, -3.55363408],\n",
       "       [-3.47475689, -2.47637475, -3.03870005, -3.24735698, -3.6628827 ,\n",
       "        -3.72544729, -3.90942862, -2.11046941, -3.9145769 , -2.60642593,\n",
       "        -3.6495423 , -2.68487219, -3.5840798 , -2.0796718 , -3.37364638],\n",
       "       [-2.19796018, -3.97606   , -3.9288117 , -3.52306601, -3.60542895,\n",
       "        -2.18751266, -3.96593965, -3.32507036, -3.61683415, -3.6495423 ,\n",
       "        -3.49773487, -2.8599415 , -2.69896842, -3.72271827, -2.31621703],\n",
       "       [-2.18825067, -3.22118453, -2.79744936, -3.19175524, -3.53992018,\n",
       "        -2.61060141, -3.21615205, -3.53575391, -2.27806998, -2.68487219,\n",
       "        -2.8599415 , -2.09184461, -3.5311712 , -2.39595741, -2.33495178],\n",
       "       [-3.77779957, -3.16050379, -2.57353101, -3.20934283, -3.01786206,\n",
       "        -3.6743215 , -2.30100163, -2.9939949 , -3.73680923, -3.5840798 ,\n",
       "        -2.69896842, -3.5311712 , -2.86427391, -3.33596852, -2.91772107],\n",
       "       [-3.2397413 , -3.4465406 , -3.44747079, -3.7791927 , -3.12630477,\n",
       "        -2.94796871, -3.89718873, -3.06433195, -3.52641426, -2.0796718 ,\n",
       "        -3.72271827, -2.39595741, -3.33596852, -2.33489592, -2.27162857],\n",
       "       [-3.18129315, -2.13597224, -2.66955342, -3.92308309, -3.98225189,\n",
       "        -2.83094196, -2.58979244, -3.44218765, -3.55363408, -3.37364638,\n",
       "        -2.31621703, -2.33495178, -2.91772107, -2.27162857, -3.86253257]])"
      ]
     },
     "execution_count": 12,
     "metadata": {},
     "output_type": "execute_result"
    }
   ],
   "source": [
    "def initial_J():\n",
    "    for i in range(numebr_amino_acids):\n",
    "        for j in range(numebr_amino_acids):\n",
    "            if (j>=i):\n",
    "                J[i,j] = random.uniform(-4.0, -2.0)\n",
    "                J[j,i] = J[i,j]\n",
    "initial_J()\n",
    "J"
   ]
  },
  {
   "cell_type": "code",
   "execution_count": 43,
   "metadata": {},
   "outputs": [
    {
     "data": {
      "text/plain": [
       "10"
      ]
     },
     "execution_count": 43,
     "metadata": {},
     "output_type": "execute_result"
    }
   ],
   "source": [
    "\n",
    "def initial_protein():\n",
    "    return [[i,10] for i in range(numebr_amino_acids)]\n",
    "\n",
    "protein_coordinate.append(initial_protein())\n",
    "protein_coordinate[0][0][1]"
   ]
  },
  {
   "cell_type": "code",
   "execution_count": null,
   "metadata": {},
   "outputs": [],
   "source": [
    "def total_e(squence, energy, coordinate, t):\n",
    "    total = 0\n",
    "    for i in range(numebr_amino_acids):\n",
    "        temp_protien_type = squence[i]\n",
    "        temp_coord = direct_nigbour(coordinate[t][i][0],coordinate[t][i][1])\n",
    "        for j in range(i, numebr_amino_acids):\n",
    "            \n"
   ]
  },
  {
   "cell_type": "code",
   "execution_count": 40,
   "metadata": {},
   "outputs": [],
   "source": [
    "def overlap(x,y,t):\n",
    "    return [x, y] in protein_coordinate[t]\n",
    "#overlap(1,11,0) # False"
   ]
  },
  {
   "cell_type": "code",
   "execution_count": 53,
   "metadata": {},
   "outputs": [],
   "source": [
    "def check_i_zero_break(i, t,new_x,new_y):\n",
    "    next_amino_x = protein_coordinate[t][i + 1][0]\n",
    "    next_amino_y = protein_coordinate[t][i + 1][1]\n",
    "    return (distance(next_amino_x,next_amino_y,new_x,new_y) != 1)\n",
    "    "
   ]
  },
  {
   "cell_type": "code",
   "execution_count": 51,
   "metadata": {},
   "outputs": [],
   "source": [
    "def check_i_last_break(i, t,new_x,new_y):\n",
    "    before_amino_x = protein_coordinate[t][i - 1][0]\n",
    "    before_amino_y = protein_coordinate[t][i - 1][1]\n",
    "    return (distance(before_amino_x,before_amino_y,new_x,new_y) != 1)"
   ]
  },
  {
   "cell_type": "code",
   "execution_count": 52,
   "metadata": {},
   "outputs": [],
   "source": [
    "def check_i_middle_break(i,t,new_x,new_y):\n",
    "    next_amino_x = protein_coordinate[t][i + 1][0]\n",
    "    next_amino_y = protein_coordinate[t][i + 1][1]\n",
    "    before_amino_x = protein_coordinate[t][i - 1][0]\n",
    "    before_amino_y = protein_coordinate[t][i - 1][1]\n",
    "    return(distance(next_amino_x,next_amino_y,new_x,new_y) != 1 or distance(before_amino_x,before_amino_y,new_x,new_y) != 1)"
   ]
  },
  {
   "cell_type": "code",
   "execution_count": null,
   "metadata": {},
   "outputs": [],
   "source": [
    "for k in direct_nigbour(new_x,new_y):\n",
    "        if([next_amino_x,next_amino_y] == k):\n",
    "            return True\n",
    "        if(k not in protein_coordinate[t]):\n",
    "            return True"
   ]
  },
  {
   "cell_type": "code",
   "execution_count": null,
   "metadata": {},
   "outputs": [],
   "source": [
    "def check_new_e(i,t,new_x,new_y):\n",
    "    "
   ]
  },
  {
   "cell_type": "code",
   "execution_count": null,
   "metadata": {},
   "outputs": [],
   "source": [
    "for t in range(TT): # time or generatation \n",
    "    new_e = 0\n",
    "    new_coord = []\n",
    "    for i in range(numebr_amino_acids):\n",
    "        print(protein_coordinate[t][i][0])\n",
    "        temp_x = protein_coordinate[t][i][0]\n",
    "        temp_y = protein_coordinate[t][i][1]\n",
    "        random_dia = diagonal_nigbour(temp_x, temp_y)[random.randrange(4)]\n",
    "        new_x = random_dia[0]\n",
    "        new_y = random_dia[1]\n",
    "\n",
    "        # check overlap\n",
    "        if overlap(new_x, new_y, t):\n",
    "            continue\n",
    "\n",
    "        #check break or not\n",
    "        if (i == 0):\n",
    "            if check_i_zero_break(i,t,new_x,new_y):\n",
    "                continue\n",
    "            else:\n",
    "                new_e += J[i,protein_coordinate[t].index(k)]\n",
    "        elif (i == (numebr_amino_acids - 1)):\n",
    "            if check_i_last_break(i,t,new_x,new_y):\n",
    "                continue\n",
    "        else:\n",
    "            if check_i_middle_break(i,t,new_x, new_y):\n",
    "                continue\n",
    "            # check energy\n",
    "            else:\n",
    "                check_new_e(i,t,new_x, new_y)\n",
    "\n",
    "        # update protein coordinate\n",
    "\n"
   ]
  },
  {
   "cell_type": "code",
   "execution_count": 33,
   "metadata": {},
   "outputs": [
    {
     "name": "stdout",
     "output_type": "stream",
     "text": [
      "[[[0, 10], [1, 10], [2, 10], [3, 10], [4, 10], [5, 10], [6, 10], [7, 10], [8, 10], [9, 10], [10, 10], [11, 10], [12, 10], [13, 10], [14, 10]]]\n"
     ]
    }
   ],
   "source": [
    "print(protein_coordinate)"
   ]
  },
  {
   "cell_type": "markdown",
   "metadata": {},
   "source": []
  },
  {
   "cell_type": "code",
   "execution_count": null,
   "metadata": {},
   "outputs": [],
   "source": []
  }
 ],
 "metadata": {
  "interpreter": {
   "hash": "b0fa6594d8f4cbf19f97940f81e996739fb7646882a419484c72d19e05852a7e"
  },
  "kernelspec": {
   "display_name": "Python 3.9.7 64-bit",
   "language": "python",
   "name": "python3"
  },
  "language_info": {
   "codemirror_mode": {
    "name": "ipython",
    "version": 3
   },
   "file_extension": ".py",
   "mimetype": "text/x-python",
   "name": "python",
   "nbconvert_exporter": "python",
   "pygments_lexer": "ipython3",
   "version": "3.9.7"
  },
  "orig_nbformat": 4
 },
 "nbformat": 4,
 "nbformat_minor": 2
}
