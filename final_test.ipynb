{
 "cells": [
  {
   "cell_type": "code",
   "execution_count": 82,
   "metadata": {},
   "outputs": [],
   "source": [
    "import math\n",
    "import numpy as np\n",
    "import pandas as pd\n",
    "from matplotlib import pyplot as plt \n",
    "import random"
   ]
  },
  {
   "cell_type": "code",
   "execution_count": 111,
   "metadata": {},
   "outputs": [],
   "source": [
    "\n",
    "random.seed(589015328) # this seed should not be changed in order to reproduce result\n",
    "TT = 5000\n",
    "temperature = 10\n",
    "numebr_amino_acids = 15\n",
    "end_of_protein = numebr_amino_acids-1"
   ]
  },
  {
   "cell_type": "code",
   "execution_count": 112,
   "metadata": {},
   "outputs": [],
   "source": [
    "direction = np.zeros(numebr_amino_acids, dtype =int) # initial chain is a straight line\n",
    "protein_coordinate = []\n",
    "coordinate_over_time = []\n",
    "distance_over_time = []\n",
    "energy_over_time  =[]\n",
    "J = np.zeros((20, 20))\n",
    "protein_sq = []"
   ]
  },
  {
   "cell_type": "code",
   "execution_count": 85,
   "metadata": {},
   "outputs": [
    {
     "name": "stdout",
     "output_type": "stream",
     "text": [
      "[1, 10, 10, 9, 3, 15, 10, 17, 1, 16, 20, 9, 14, 14, 4]\n"
     ]
    }
   ],
   "source": [
    "def sequence_N_integers(N):\n",
    "    #array of numbers between 1-20, values represent type of amino acid, can repeat\n",
    "    return [random.randrange(1,21) for _ in range(N)]\n",
    "protein_sq = sequence_N_integers(numebr_amino_acids)\n",
    "print(protein_sq)"
   ]
  },
  {
   "cell_type": "code",
   "execution_count": 86,
   "metadata": {},
   "outputs": [],
   "source": [
    "def distance(x1, y1, x2, y2):\n",
    "    return math.sqrt((x2-x1)**2+(y2-y1)**2)"
   ]
  },
  {
   "cell_type": "code",
   "execution_count": 87,
   "metadata": {},
   "outputs": [],
   "source": [
    "def diagonal_nigbour(x1, y1):\n",
    "    up_right = [x1 + 1, y1 + 1]\n",
    "    down_right= [x1 + 1, y1 - 1]\n",
    "    down_left = [x1 - 1, y1 - 1]\n",
    "    up_left = [x1 - 1, y1 + 1]\n",
    "    return [up_right, down_right, down_left, up_left]"
   ]
  },
  {
   "cell_type": "code",
   "execution_count": 88,
   "metadata": {},
   "outputs": [],
   "source": [
    "def direct_nigbour(x1,y1):\n",
    "    up= [x1 , y1 + 1]\n",
    "    down= [x1 , y1 - 1]\n",
    "    left = [x1 - 1, y1 ]\n",
    "    right = [x1 - 1, y1]\n",
    "    return [up, down, left, right]"
   ]
  },
  {
   "cell_type": "code",
   "execution_count": 109,
   "metadata": {},
   "outputs": [
    {
     "data": {
      "text/plain": [
       "array([[-2.01469064, -2.67856982, -3.18598171, -2.84414527, -2.69890044,\n",
       "        -2.60878225, -3.3233611 , -2.42878554, -3.01436888, -3.82420322,\n",
       "        -3.52565159, -2.1241107 , -3.73078887, -3.22526229, -2.28781447,\n",
       "        -3.92171333, -2.97787767, -3.39597474, -3.88521685, -3.50191805],\n",
       "       [-2.67856982, -3.41163768, -2.12449889, -2.56274276, -3.14639101,\n",
       "        -3.71124044, -2.78463875, -2.58924541, -3.25744752, -3.11054853,\n",
       "        -2.50371212, -3.42637918, -2.16187422, -2.52634645, -2.24121645,\n",
       "        -2.86868539, -2.76833767, -2.86243611, -3.30373619, -2.17750553],\n",
       "       [-3.18598171, -2.12449889, -3.4250278 , -3.16237253, -3.4259959 ,\n",
       "        -2.83208836, -2.65220878, -2.40681543, -3.14812297, -2.71857412,\n",
       "        -3.51351732, -3.19408056, -2.87815425, -3.78939919, -3.27353031,\n",
       "        -2.62655759, -2.68693161, -2.24016845, -3.70911693, -3.9404124 ],\n",
       "       [-2.84414527, -2.56274276, -3.16237253, -3.55502656, -3.18110631,\n",
       "        -2.43886714, -2.56190073, -2.75540103, -2.20846159, -2.83161441,\n",
       "        -2.06603382, -3.63737947, -2.07012144, -3.91312118, -2.75065738,\n",
       "        -2.12862512, -2.08192136, -3.11390199, -3.35582858, -2.68798872],\n",
       "       [-2.69890044, -3.14639101, -3.4259959 , -3.18110631, -3.73466043,\n",
       "        -3.7617492 , -2.64362417, -2.16105684, -3.78198395, -3.81260675,\n",
       "        -2.25362417, -3.73597494, -3.58462065, -3.59899595, -3.72731235,\n",
       "        -3.04064927, -3.40343621, -3.01204884, -3.54045135, -2.61940815],\n",
       "       [-2.60878225, -3.71124044, -2.83208836, -2.43886714, -3.7617492 ,\n",
       "        -3.96376634, -2.93162785, -3.81120917, -3.25920091, -3.42857959,\n",
       "        -2.26743395, -3.0301348 , -3.75256332, -2.82709334, -2.4084988 ,\n",
       "        -3.9421733 , -3.71042808, -3.08252629, -3.25084266, -2.14779182],\n",
       "       [-3.3233611 , -2.78463875, -2.65220878, -2.56190073, -2.64362417,\n",
       "        -2.93162785, -3.00473974, -3.94321389, -2.45163423, -2.8104563 ,\n",
       "        -3.69200968, -3.70464413, -3.31295364, -2.18740943, -2.51361931,\n",
       "        -2.2026512 , -3.2671136 , -2.09352078, -2.19721292, -3.0578047 ],\n",
       "       [-2.42878554, -2.58924541, -2.40681543, -2.75540103, -2.16105684,\n",
       "        -3.81120917, -3.94321389, -3.93968303, -3.2124087 , -2.35875195,\n",
       "        -3.71780303, -3.96434782, -2.13589987, -3.14249584, -3.98156481,\n",
       "        -2.1695849 , -2.79017703, -2.34424066, -2.47592976, -2.06221647],\n",
       "       [-3.01436888, -3.25744752, -3.14812297, -2.20846159, -3.78198395,\n",
       "        -3.25920091, -2.45163423, -3.2124087 , -3.39417402, -2.29321795,\n",
       "        -2.93421408, -2.22281633, -3.92594016, -3.71611574, -3.73628789,\n",
       "        -2.59910286, -2.43124119, -2.47717326, -3.23820553, -3.27411438],\n",
       "       [-3.82420322, -3.11054853, -2.71857412, -2.83161441, -3.81260675,\n",
       "        -3.42857959, -2.8104563 , -2.35875195, -2.29321795, -2.60379832,\n",
       "        -2.58471756, -2.74648223, -3.23748611, -2.44517395, -2.09680289,\n",
       "        -3.35094891, -2.16562227, -2.64673727, -2.78311971, -2.14957061],\n",
       "       [-3.52565159, -2.50371212, -3.51351732, -2.06603382, -2.25362417,\n",
       "        -2.26743395, -3.69200968, -3.71780303, -2.93421408, -2.58471756,\n",
       "        -3.41294144, -3.78692379, -3.35326762, -3.51150196, -3.86788427,\n",
       "        -2.45234246, -2.66068832, -2.51334072, -2.17344055, -2.46513633],\n",
       "       [-2.1241107 , -3.42637918, -3.19408056, -3.63737947, -3.73597494,\n",
       "        -3.0301348 , -3.70464413, -3.96434782, -2.22281633, -2.74648223,\n",
       "        -3.78692379, -2.4582731 , -2.40540335, -2.18371932, -3.70241746,\n",
       "        -3.08193712, -3.56254991, -3.16255305, -3.46008525, -3.96740107],\n",
       "       [-3.73078887, -2.16187422, -2.87815425, -2.07012144, -3.58462065,\n",
       "        -3.75256332, -3.31295364, -2.13589987, -3.92594016, -3.23748611,\n",
       "        -3.35326762, -2.40540335, -3.10930018, -2.67532199, -2.89691257,\n",
       "        -3.67115644, -3.47293095, -2.69143124, -2.10844422, -3.82520021],\n",
       "       [-3.22526229, -2.52634645, -3.78939919, -3.91312118, -3.59899595,\n",
       "        -2.82709334, -2.18740943, -3.14249584, -3.71611574, -2.44517395,\n",
       "        -3.51150196, -2.18371932, -2.67532199, -3.05257145, -3.89450735,\n",
       "        -2.91651017, -2.67104513, -2.78771495, -3.3723942 , -3.40018965],\n",
       "       [-2.28781447, -2.24121645, -3.27353031, -2.75065738, -3.72731235,\n",
       "        -2.4084988 , -2.51361931, -3.98156481, -3.73628789, -2.09680289,\n",
       "        -3.86788427, -3.70241746, -2.89691257, -3.89450735, -2.02605637,\n",
       "        -3.73502606, -3.8056612 , -2.14836418, -2.86291795, -2.5414923 ],\n",
       "       [-3.92171333, -2.86868539, -2.62655759, -2.12862512, -3.04064927,\n",
       "        -3.9421733 , -2.2026512 , -2.1695849 , -2.59910286, -3.35094891,\n",
       "        -2.45234246, -3.08193712, -3.67115644, -2.91651017, -3.73502606,\n",
       "        -2.9748107 , -2.83070475, -2.32478006, -3.16864114, -3.16971856],\n",
       "       [-2.97787767, -2.76833767, -2.68693161, -2.08192136, -3.40343621,\n",
       "        -3.71042808, -3.2671136 , -2.79017703, -2.43124119, -2.16562227,\n",
       "        -2.66068832, -3.56254991, -3.47293095, -2.67104513, -3.8056612 ,\n",
       "        -2.83070475, -2.37258382, -3.46655823, -3.5440398 , -2.54959392],\n",
       "       [-3.39597474, -2.86243611, -2.24016845, -3.11390199, -3.01204884,\n",
       "        -3.08252629, -2.09352078, -2.34424066, -2.47717326, -2.64673727,\n",
       "        -2.51334072, -3.16255305, -2.69143124, -2.78771495, -2.14836418,\n",
       "        -2.32478006, -3.46655823, -2.86167148, -3.96428432, -2.37830771],\n",
       "       [-3.88521685, -3.30373619, -3.70911693, -3.35582858, -3.54045135,\n",
       "        -3.25084266, -2.19721292, -2.47592976, -3.23820553, -2.78311971,\n",
       "        -2.17344055, -3.46008525, -2.10844422, -3.3723942 , -2.86291795,\n",
       "        -3.16864114, -3.5440398 , -3.96428432, -2.27012103, -2.04350564],\n",
       "       [-3.50191805, -2.17750553, -3.9404124 , -2.68798872, -2.61940815,\n",
       "        -2.14779182, -3.0578047 , -2.06221647, -3.27411438, -2.14957061,\n",
       "        -2.46513633, -3.96740107, -3.82520021, -3.40018965, -2.5414923 ,\n",
       "        -3.16971856, -2.54959392, -2.37830771, -2.04350564, -3.78610371]])"
      ]
     },
     "execution_count": 109,
     "metadata": {},
     "output_type": "execute_result"
    }
   ],
   "source": [
    "def initial_J():\n",
    "    for i in range(20):\n",
    "        for j in range(20):\n",
    "            if (j>=i):\n",
    "                J[i,j] = random.uniform(-4.0, -2.0)\n",
    "                J[j,i] = J[i,j]\n",
    "initial_J()\n",
    "#J[1,12] == J[12,1] # True\n",
    "J"
   ]
  },
  {
   "cell_type": "code",
   "execution_count": 90,
   "metadata": {},
   "outputs": [
    {
     "data": {
      "text/plain": [
       "10"
      ]
     },
     "execution_count": 90,
     "metadata": {},
     "output_type": "execute_result"
    }
   ],
   "source": [
    "\n",
    "def initial_protein():\n",
    "    return [[i,10] for i in range(numebr_amino_acids)]\n",
    "\n",
    "protein_coordinate.append(initial_protein())\n",
    "protein_coordinate[0][0][1]"
   ]
  },
  {
   "cell_type": "code",
   "execution_count": 91,
   "metadata": {},
   "outputs": [],
   "source": [
    "# def total_e(squence, energy, coordinate, t):\n",
    "#     total = 0\n",
    "#     for i in range(numebr_amino_acids):\n",
    "#         temp_protien_type = squence[i]\n",
    "#         temp_coord = direct_nigbour(coordinate[t][i][0],coordinate[t][i][1])\n",
    "#         for j in range(i, numebr_amino_acids):\n",
    "            \n"
   ]
  },
  {
   "cell_type": "code",
   "execution_count": 92,
   "metadata": {},
   "outputs": [],
   "source": [
    "def overlap(x,y,t):\n",
    "    return [x, y] in protein_coordinate[t]\n",
    "#overlap(1,11,0) # False"
   ]
  },
  {
   "cell_type": "code",
   "execution_count": 93,
   "metadata": {},
   "outputs": [],
   "source": [
    "def check_i_zero_break(i, t,new_x,new_y):\n",
    "    next_amino_x = protein_coordinate[t][i + 1][0]\n",
    "    next_amino_y = protein_coordinate[t][i + 1][1]\n",
    "    return (distance(next_amino_x,next_amino_y,new_x,new_y) != 1)\n",
    "    "
   ]
  },
  {
   "cell_type": "code",
   "execution_count": 94,
   "metadata": {},
   "outputs": [],
   "source": [
    "def check_i_last_break(i, t,new_x,new_y):\n",
    "    before_amino_x = protein_coordinate[t][i - 1][0]\n",
    "    before_amino_y = protein_coordinate[t][i - 1][1]\n",
    "    return (distance(before_amino_x,before_amino_y,new_x,new_y) != 1)"
   ]
  },
  {
   "cell_type": "code",
   "execution_count": 95,
   "metadata": {},
   "outputs": [],
   "source": [
    "def check_i_middle_break(i,t,new_x,new_y):\n",
    "    next_amino_x = protein_coordinate[t][i + 1][0]\n",
    "    next_amino_y = protein_coordinate[t][i + 1][1]\n",
    "    before_amino_x = protein_coordinate[t][i - 1][0]\n",
    "    before_amino_y = protein_coordinate[t][i - 1][1]\n",
    "    return(distance(next_amino_x,next_amino_y,new_x,new_y) != 1 or distance(before_amino_x,before_amino_y,new_x,new_y) != 1)"
   ]
  },
  {
   "cell_type": "code",
   "execution_count": 96,
   "metadata": {},
   "outputs": [],
   "source": [
    "# for k in direct_nigbour(new_x,new_y):\n",
    "#         if([next_amino_x,next_amino_y] == k):\n",
    "#             return True\n",
    "#         if(k not in protein_coordinate[t]):\n",
    "#             return True"
   ]
  },
  {
   "cell_type": "code",
   "execution_count": 97,
   "metadata": {},
   "outputs": [],
   "source": [
    "def check_new_e_zero(i,t,new_x,new_y):\n",
    "    en = 0\n",
    "    for pos in direct_nigbour(new_x,new_y): \n",
    "        if (pos in protein_coordinate[t]):\n",
    "            index_next = protein_coordinate[t].index(pos)\n",
    "            if(index_next == i + 1 ):\n",
    "                continue\n",
    "            else:\n",
    "                en += J[protein_sq[i],protein_sq[index_next]]\n",
    "        return en"
   ]
  },
  {
   "cell_type": "code",
   "execution_count": 98,
   "metadata": {},
   "outputs": [],
   "source": [
    "def check_new_e_last(i,t,new_x,new_y):\n",
    "    en = 0\n",
    "    for pos in direct_nigbour(new_x,new_y): \n",
    "        if (pos in protein_coordinate[t]):\n",
    "            index_next = protein_coordinate[t].index(pos)\n",
    "            if(index_next == i - 1 ):\n",
    "                continue\n",
    "            else:\n",
    "                en += J[protein_sq[i],protein_sq[index_next]]\n",
    "        return en"
   ]
  },
  {
   "cell_type": "code",
   "execution_count": 99,
   "metadata": {},
   "outputs": [],
   "source": [
    "def check_new_e_middle(i,t,new_x,new_y):\n",
    "    en = 0\n",
    "    for pos in direct_nigbour(new_x,new_y): \n",
    "        if (pos in protein_coordinate[t]):\n",
    "            index_next = protein_coordinate[t].index(pos)\n",
    "            if index_next in [i - 1, i + 1]:\n",
    "                continue\n",
    "            else:\n",
    "                en += J[protein_sq[i],protein_sq[index_next]]\n",
    "        return en"
   ]
  },
  {
   "cell_type": "code",
   "execution_count": 100,
   "metadata": {},
   "outputs": [
    {
     "ename": "IndentationError",
     "evalue": "expected an indented block (353649205.py, line 22)",
     "output_type": "error",
     "traceback": [
      "\u001b[0;36m  File \u001b[0;32m\"/var/folders/jd/pyhvlbhj7zq5ljxf6wrlk5xm0000gn/T/ipykernel_5285/353649205.py\"\u001b[0;36m, line \u001b[0;32m22\u001b[0m\n\u001b[0;31m    elif (i == (numebr_amino_acids - 1)):\u001b[0m\n\u001b[0m    ^\u001b[0m\n\u001b[0;31mIndentationError\u001b[0m\u001b[0;31m:\u001b[0m expected an indented block\n"
     ]
    }
   ],
   "source": [
    "for t in range(TT): # time or generatation \n",
    "    new_e = []\n",
    "    new_coord = []\n",
    "    #loop throught entire protein\n",
    "    for i in range(numebr_amino_acids):\n",
    "        #print(protein_coordinate[t][i][0])\n",
    "        temp_x = protein_coordinate[t][i][0]\n",
    "        temp_y = protein_coordinate[t][i][1]\n",
    "        random_dia = diagonal_nigbour(temp_x, temp_y)[random.randrange(4)]\n",
    "        new_x = random_dia[0]\n",
    "        new_y = random_dia[1]\n",
    "\n",
    "        # check overlap\n",
    "        if overlap(new_x, new_y, t):\n",
    "            continue\n",
    "\n",
    "        #check break or not\n",
    "        if (i == 0):\n",
    "            if check_i_zero_break(i,t,new_x,new_y):\n",
    "                continue\n",
    "            delta_e = check_new_e_zero(i,t,new_x,new_y) - check_new_e_zero(i,t,temp_x,temp_y)\n",
    "            if (delta_e < 0):\n",
    "                new_coord.append([new_x,new_y])\n",
    "            elif min(1, np.exp(-delta_e/temperature))>np.random.random():\n",
    "                new_coord.append([new_x,new_y])\n",
    "            else:\n",
    "                new_coord.append([temp_x,temp_y])\n",
    "\n",
    "        elif (i > 0 and i < numebr_amino_acids - 1):\n",
    "            if check_i_middle_break(i,t,new_x, new_y):\n",
    "                continue\n",
    "            delta_e = check_new_e_middle(i,t,new_x,new_y) - check_new_e_middle(i,t,temp_x,temp_y)\n",
    "            if (delta_e < 0):\n",
    "                new_coord.append([new_x,new_y])\n",
    "            elif min(1, np.exp(-delta_e/temperature))>np.random.random():\n",
    "                new_coord.append([new_x,new_y])\n",
    "            else:\n",
    "                new_coord.append([temp_x,temp_y])\n",
    "        elif i == (numebr_amino_acids - 1):\n",
    "            if check_i_last_break(i,t,new_x,new_y):\n",
    "                continue\n",
    "            delta_e = check_new_e_last(i,t,new_x,new_y) - check_new_e_last(i,t,temp_x,temp_y)\n",
    "            if (delta_e < 0):\n",
    "                new_coord.append([new_x,new_y])\n",
    "            elif min(1, np.exp(-delta_e/temperature))>np.random.random():\n",
    "                new_coord.append([new_x,new_y])\n",
    "            else:\n",
    "                new_coord.append([temp_x,temp_y])\n",
    "            \n",
    "            # update protein coordinate\n",
    "    \n",
    "    # update everything after each generation\n",
    "    # update end to end distance \n",
    "    temp_dis = distance(protein_coordinate[t][0][0],protein_coordinate[t][0][1], protein_coordinate[t][-1][0],protein_coordinate[t][-1][1])\n",
    "    distance_over_time.append(temp_dis)\n",
    "    energy_over_time.append(new_e)\n",
    "    coordinate_over_time.append(new_coord)\n",
    "\n",
    "\n"
   ]
  },
  {
   "cell_type": "code",
   "execution_count": 101,
   "metadata": {},
   "outputs": [
    {
     "name": "stdout",
     "output_type": "stream",
     "text": [
      "0\n"
     ]
    }
   ],
   "source": [
    "print(protein_coordinate[0].index([0,10]))"
   ]
  },
  {
   "cell_type": "markdown",
   "metadata": {},
   "source": []
  },
  {
   "cell_type": "code",
   "execution_count": null,
   "metadata": {},
   "outputs": [],
   "source": []
  }
 ],
 "metadata": {
  "interpreter": {
   "hash": "b0fa6594d8f4cbf19f97940f81e996739fb7646882a419484c72d19e05852a7e"
  },
  "kernelspec": {
   "display_name": "Python 3.9.7 64-bit",
   "language": "python",
   "name": "python3"
  },
  "language_info": {
   "codemirror_mode": {
    "name": "ipython",
    "version": 3
   },
   "file_extension": ".py",
   "mimetype": "text/x-python",
   "name": "python",
   "nbconvert_exporter": "python",
   "pygments_lexer": "ipython3",
   "version": "3.9.7"
  },
  "orig_nbformat": 4
 },
 "nbformat": 4,
 "nbformat_minor": 2
}
