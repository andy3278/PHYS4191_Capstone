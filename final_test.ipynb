{
 "cells": [
  {
   "cell_type": "code",
   "execution_count": 617,
   "metadata": {},
   "outputs": [],
   "source": [
    "import math\n",
    "import numpy as np\n",
    "import pandas as pd\n",
    "from matplotlib import pyplot as plt \n",
    "import random"
   ]
  },
  {
   "cell_type": "code",
   "execution_count": 618,
   "metadata": {},
   "outputs": [
    {
     "name": "stdout",
     "output_type": "stream",
     "text": [
      "[0.5, 1.0, 1.5, 2.0, 2.5, 3.0, 3.5, 4.0, 4.5, 5.0, 5.5, 6.0, 6.5, 7.0, 7.5, 8.0, 8.5, 9.0, 9.5, 10.0]\n",
      "20\n"
     ]
    }
   ],
   "source": [
    "range_of_TT = []\n",
    "i = 0.5\n",
    "while i < 10.5:\n",
    "    range_of_TT.append(i)\n",
    "    i += 0.5\n",
    "print(range_of_TT)\n",
    "print(len(range_of_TT))"
   ]
  },
  {
   "cell_type": "code",
   "execution_count": 619,
   "metadata": {},
   "outputs": [],
   "source": [
    "\n",
    "random.seed(589015328) # this seed should not be changed in order to reproduce result\n",
    "TT = int(5e5)\n",
    "\n",
    "temperature = 10\n",
    "numebr_amino_acids = 15\n",
    "end_of_protein = numebr_amino_acids-1"
   ]
  },
  {
   "cell_type": "code",
   "execution_count": 620,
   "metadata": {},
   "outputs": [],
   "source": [
    "direction = np.zeros(numebr_amino_acids, dtype =int) # initial chain is a straight line\n",
    "protein_coordinate = []\n",
    "coordinate_over_time = []\n",
    "distance_over_time = []\n",
    "energy_over_time  =  [0.0]\n",
    "J = np.zeros((20, 20))\n",
    "protein_sq = []"
   ]
  },
  {
   "cell_type": "code",
   "execution_count": 621,
   "metadata": {},
   "outputs": [
    {
     "name": "stdout",
     "output_type": "stream",
     "text": [
      "[0, 9, 9, 8, 2, 14, 9, 16, 0, 15, 19, 8, 13, 13, 3]\n"
     ]
    }
   ],
   "source": [
    "def sequence_N_integers(N):\n",
    "    #array of numbers between 1-20, values represent type of amino acid, can repeat\n",
    "    return [random.randrange(0,20) for _ in range(N)]\n",
    "protein_sq = sequence_N_integers(numebr_amino_acids)\n",
    "print(protein_sq)"
   ]
  },
  {
   "cell_type": "code",
   "execution_count": 622,
   "metadata": {},
   "outputs": [],
   "source": [
    "def distance(x1, y1, x2, y2):\n",
    "    return math.sqrt((x2-x1)**2+(y2-y1)**2)"
   ]
  },
  {
   "cell_type": "code",
   "execution_count": 623,
   "metadata": {},
   "outputs": [],
   "source": [
    "def diagonal_nigbour(x1, y1):\n",
    "    up_right = [x1 + 1, y1 + 1]\n",
    "    down_right= [x1 + 1, y1 - 1]\n",
    "    down_left = [x1 - 1, y1 - 1]\n",
    "    up_left = [x1 - 1, y1 + 1]\n",
    "    return [up_right, down_right, down_left, up_left]"
   ]
  },
  {
   "cell_type": "code",
   "execution_count": 624,
   "metadata": {},
   "outputs": [],
   "source": [
    "def direct_nigbour(x1,y1):\n",
    "    up= [x1 , y1 + 1]\n",
    "    down= [x1 , y1 - 1]\n",
    "    left = [x1 - 1, y1 ]\n",
    "    right = [x1 - 1, y1]\n",
    "    return [up, down, left, right]"
   ]
  },
  {
   "cell_type": "code",
   "execution_count": 625,
   "metadata": {},
   "outputs": [
    {
     "name": "stdout",
     "output_type": "stream",
     "text": [
      "400\n"
     ]
    }
   ],
   "source": [
    "def initial_J():\n",
    "    for i in range(20):\n",
    "        for j in range(20):\n",
    "            if (j>=i):\n",
    "                J[i,j] = random.uniform(-4.0, -2.0)\n",
    "                J[j,i] = J[i,j]\n",
    "initial_J()\n",
    "#J[1,12] == J[12,1] # True\n",
    "#J\n",
    "print(J.size)"
   ]
  },
  {
   "cell_type": "code",
   "execution_count": 626,
   "metadata": {},
   "outputs": [
    {
     "name": "stdout",
     "output_type": "stream",
     "text": [
      "[[0, 10], [1, 10], [2, 10], [3, 10], [4, 10], [5, 10], [6, 10], [7, 10], [8, 10], [9, 10], [10, 10], [11, 10], [12, 10], [13, 10], [14, 10]]\n"
     ]
    }
   ],
   "source": [
    "\n",
    "def initial_protein():\n",
    "    return [[i,10] for i in range(numebr_amino_acids)]\n",
    "\n",
    "protein_coordinate.append(initial_protein())\n",
    "protein_coordinate[0][0][1]\n",
    "print(protein_coordinate[0])"
   ]
  },
  {
   "cell_type": "code",
   "execution_count": 627,
   "metadata": {},
   "outputs": [],
   "source": [
    "# def total_e(squence, energy, coordinate, t):\n",
    "#     total = 0\n",
    "#     for i in range(numebr_amino_acids):\n",
    "#         temp_protien_type = squence[i]\n",
    "#         temp_coord = direct_nigbour(coordinate[t][i][0],coordinate[t][i][1])\n",
    "#         for j in range(i, numebr_amino_acids):\n",
    "            \n"
   ]
  },
  {
   "cell_type": "code",
   "execution_count": 628,
   "metadata": {},
   "outputs": [],
   "source": [
    "def overlap(x,y,t):\n",
    "    return [x, y] in protein_coordinate[t]\n",
    "#overlap(1,11,0) # False"
   ]
  },
  {
   "cell_type": "code",
   "execution_count": 629,
   "metadata": {},
   "outputs": [],
   "source": [
    "def check_i_zero_break(i, t,new_x,new_y):\n",
    "    next_amino_x = protein_coordinate[t][i + 1][0]\n",
    "    next_amino_y = protein_coordinate[t][i + 1][1]\n",
    "    return (distance(next_amino_x,next_amino_y,new_x,new_y) != 1)\n",
    "    "
   ]
  },
  {
   "cell_type": "code",
   "execution_count": 630,
   "metadata": {},
   "outputs": [],
   "source": [
    "def check_i_last_break(i, t,new_x,new_y):\n",
    "    before_amino_x = protein_coordinate[t][i - 1][0]\n",
    "    before_amino_y = protein_coordinate[t][i - 1][1]\n",
    "    return (distance(before_amino_x,before_amino_y,new_x,new_y) != 1)"
   ]
  },
  {
   "cell_type": "code",
   "execution_count": 631,
   "metadata": {},
   "outputs": [],
   "source": [
    "def check_i_middle_break(i,t,new_x,new_y):\n",
    "    next_amino_x = protein_coordinate[t][i + 1][0]\n",
    "    next_amino_y = protein_coordinate[t][i + 1][1]\n",
    "    before_amino_x = protein_coordinate[t][i - 1][0]\n",
    "    before_amino_y = protein_coordinate[t][i - 1][1]\n",
    "    return(distance(next_amino_x,next_amino_y,new_x,new_y) != 1 or distance(before_amino_x,before_amino_y,new_x,new_y) != 1)"
   ]
  },
  {
   "cell_type": "code",
   "execution_count": 632,
   "metadata": {},
   "outputs": [],
   "source": [
    "# for k in direct_nigbour(new_x,new_y):\n",
    "#         if([next_amino_x,next_amino_y] == k):\n",
    "#             return True\n",
    "#         if(k not in protein_coordinate[t]):\n",
    "#             return True"
   ]
  },
  {
   "cell_type": "code",
   "execution_count": 633,
   "metadata": {},
   "outputs": [],
   "source": [
    "def check_new_e_zero(i,t,new_x,new_y):\n",
    "    en = 0\n",
    "    for pos in direct_nigbour(new_x,new_y): \n",
    "        if (pos in protein_coordinate[t]):\n",
    "            index_next = protein_coordinate[t].index(pos)\n",
    "            if(index_next == i + 1 ):\n",
    "                continue\n",
    "            else:\n",
    "                en += J[protein_sq[i],protein_sq[index_next]]\n",
    "        return en"
   ]
  },
  {
   "cell_type": "code",
   "execution_count": 634,
   "metadata": {},
   "outputs": [],
   "source": [
    "def check_new_e_last(i,t,new_x,new_y):\n",
    "    en = 0\n",
    "    for pos in direct_nigbour(new_x,new_y): \n",
    "        if (pos in protein_coordinate[t]):\n",
    "            index_next = protein_coordinate[t].index(pos)\n",
    "            if(index_next == i - 1 ):\n",
    "                continue\n",
    "            else:\n",
    "                en += J[protein_sq[i],protein_sq[index_next]]\n",
    "        return en"
   ]
  },
  {
   "cell_type": "code",
   "execution_count": 635,
   "metadata": {},
   "outputs": [],
   "source": [
    "def check_new_e_middle(i,t,new_x,new_y):\n",
    "    en = 0\n",
    "    for pos in direct_nigbour(new_x,new_y): \n",
    "        if (pos in protein_coordinate[t]):\n",
    "            index_next = protein_coordinate[t].index(pos)\n",
    "            if index_next in [i - 1, i + 1]:\n",
    "                continue\n",
    "            else:\n",
    "                en += J[protein_sq[i],protein_sq[index_next]]\n",
    "        return en"
   ]
  },
  {
   "cell_type": "markdown",
   "metadata": {},
   "source": []
  },
  {
   "cell_type": "code",
   "execution_count": 636,
   "metadata": {},
   "outputs": [],
   "source": [
    "def one_or_zero(i,j):\n",
    "    if(i+ 1 == j or i - 1 == j):\n",
    "        return 0\n",
    "    else:\n",
    "        return 1"
   ]
  },
  {
   "cell_type": "code",
   "execution_count": 637,
   "metadata": {},
   "outputs": [],
   "source": [
    "def total_e(t):\n",
    "    tot_e = 0\n",
    "    for i in range(len(protein_coordinate[t])):\n",
    "        #temp_e = 0\n",
    "        for j in direct_nigbour(protein_coordinate[t][i][0],protein_coordinate[t][i][1]):\n",
    "            if (j in protein_coordinate[t]) and (\n",
    "                (\n",
    "                    protein_coordinate[t].index(j) != (i + 1)\n",
    "                    or protein_coordinate[t].index(j) != (i - 1)\n",
    "                )\n",
    "            ):\n",
    "                tot_e += J[protein_sq[i],protein_sq[protein_coordinate[t].index(j)]]\n",
    "    return tot_e/2.0"
   ]
  },
  {
   "cell_type": "code",
   "execution_count": 638,
   "metadata": {},
   "outputs": [],
   "source": [
    "energy_vs_temp_energy = []\n",
    "energy_vs_temp_temp = []\n",
    "energy_vs_temp_length = []\n",
    "\n"
   ]
  },
  {
   "cell_type": "code",
   "execution_count": 639,
   "metadata": {},
   "outputs": [],
   "source": [
    "for temper in range_of_TT:\n",
    "    #new_e = 0\n",
    "    for t in range(TT): # time or generatation \n",
    "        total_delta_e = 0\n",
    "        new_coord = protein_coordinate[t] # [[],[],[]...,[]]\n",
    "        #loop throught entire protein\n",
    "        for i in range(numebr_amino_acids):\n",
    "            #print(protein_coordinate[t][i][0])\n",
    "            temp_x = protein_coordinate[t][i][0] # x coordinate for 1st protein in generation t\n",
    "            temp_y = protein_coordinate[t][i][1] # y coordinate for 1st protein in generation t\n",
    "            random_dia = diagonal_nigbour(temp_x, temp_y)[random.randrange(4)]\n",
    "            new_x = random_dia[0]\n",
    "            new_y = random_dia[1]\n",
    "\n",
    "            # check overlap\n",
    "            if overlap(new_x, new_y, t):\n",
    "                continue\n",
    "\n",
    "            #check break or not\n",
    "            if (i == 0):\n",
    "                if check_i_zero_break(i,t,new_x,new_y):\n",
    "                    continue\n",
    "                e_1 = check_new_e_zero(i,t,new_x,new_y) \n",
    "                e_2 = check_new_e_zero(i,t,temp_x,temp_y)\n",
    "                delta_e = e_1 - e_2            #   print(delta_e)\n",
    "                if (delta_e < 0):\n",
    "                    new_coord[i] = [new_x,new_y]\n",
    "                    total_delta_e += delta_e\n",
    "                elif min(1, np.exp(-delta_e/temper))>np.random.random():\n",
    "                    new_coord[i] = [new_x,new_y]\n",
    "                    total_delta_e += delta_e\n",
    "\n",
    "\n",
    "            elif (i > 0 and i < numebr_amino_acids - 1):\n",
    "                if check_i_middle_break(i,t,new_x, new_y):\n",
    "                    continue\n",
    "                e_1 = check_new_e_middle(i,t,new_x,new_y) \n",
    "                e_2 = check_new_e_middle(i,t,temp_x,temp_y)\n",
    "                delta_e = e_1 - e_2\n",
    "                if (delta_e < 0):\n",
    "                    new_coord[i] = [new_x,new_y]\n",
    "                    total_delta_e += delta_e\n",
    "                elif min(1, np.exp(-delta_e/temper))>np.random.random():\n",
    "                    new_coord[i] = [new_x,new_y]\n",
    "                    total_delta_e += delta_e\n",
    "\n",
    "            elif i == (numebr_amino_acids - 1):\n",
    "                if check_i_last_break(i,t,new_x,new_y):\n",
    "                    continue\n",
    "                e_1 = check_new_e_last(i,t,new_x,new_y) \n",
    "                e_2 = check_new_e_last(i,t,temp_x,temp_y)\n",
    "                delta_e = e_1 - e_2\n",
    "                if (delta_e < 0):\n",
    "                    new_coord[i] = [new_x,new_y]\n",
    "                    total_delta_e += delta_e\n",
    "                elif min(1, np.exp(-delta_e/temper))>np.random.random():\n",
    "                    new_coord[i] = [new_x,new_y]\n",
    "                    total_delta_e += delta_e\n",
    "                        # update protein coordinate\n",
    "        #new_e += total_delta_e /2.0\n",
    "        protein_coordinate.append(new_coord)\n",
    "        # update everything after each generation\n",
    "        # update end to end distance \n",
    "        \n",
    "        if t %10 == 0:\n",
    "            energy_over_time.append(total_e(t))\n",
    "            temp_dis = distance(protein_coordinate[t][0][0],protein_coordinate[t][0][1], protein_coordinate[t][-1][0],protein_coordinate[t][-1][1])\n",
    "            distance_over_time.append(temp_dis)\n",
    "        coordinate_over_time.append(new_coord)\n",
    "    energy_vs_temp_energy.append(np.mean(energy_over_time[round(-0.1*len(energy_over_time)):]))\n",
    "    energy_vs_temp_length.append(np.mean(distance_over_time[round(-0.1*len(distance_over_time)):]))\n",
    "\n"
   ]
  },
  {
   "cell_type": "markdown",
   "metadata": {},
   "source": []
  },
  {
   "cell_type": "code",
   "execution_count": 640,
   "metadata": {},
   "outputs": [
    {
     "name": "stdout",
     "output_type": "stream",
     "text": [
      "-53.67281322711533\n"
     ]
    }
   ],
   "source": [
    "#print(energy_vs_temp_energy)\n",
    "#print(energy_vs_temp_length)\n",
    "print(energy_vs_temp_energy[round(-0.1*len(energy_vs_temp_energy))])"
   ]
  },
  {
   "cell_type": "code",
   "execution_count": 641,
   "metadata": {},
   "outputs": [],
   "source": [
    "# ls  = [[],[]]\n",
    "# ls[0] = [1,2]\n",
    "# ls[1] = [2,3]\n",
    "# print(ls)"
   ]
  },
  {
   "cell_type": "markdown",
   "metadata": {},
   "source": []
  },
  {
   "cell_type": "code",
   "execution_count": 642,
   "metadata": {},
   "outputs": [],
   "source": [
    "#print(coordinate_over_time[-1])\n",
    "#print(distance_over_time)\n",
    "#print(energy_over_time[22000:23000])"
   ]
  },
  {
   "cell_type": "code",
   "execution_count": 643,
   "metadata": {},
   "outputs": [],
   "source": [
    "# turn delta over time to total energy over time\n",
    "# for i in range(len(energy_over_time)):\n",
    "#     if i == 0:\n",
    "#         energy_over_time[i] = energy_over_time[i]\n",
    "#     else:\n",
    "#         energy_over_time[i] = energy_over_time[i-1] + energy_over_time[i]\n",
    "#print(energy_over_time)"
   ]
  },
  {
   "cell_type": "code",
   "execution_count": 644,
   "metadata": {},
   "outputs": [],
   "source": [
    "every_nth_dis = distance_over_time[::100]\n",
    "every_nth_energy = energy_over_time[::100]"
   ]
  },
  {
   "cell_type": "code",
   "execution_count": 645,
   "metadata": {},
   "outputs": [
    {
     "data": {
      "image/png": "[encoded data removed]",
      "text/plain": [
       "<Figure size 432x288 with 1 Axes>"
      ]
     },
     "metadata": {
      "needs_background": "light"
     },
     "output_type": "display_data"
    }
   ],
   "source": [
    "plt.plot(range(len(every_nth_dis)),every_nth_dis,linewidth=1.0)\n",
    "plt.title('Length versus time at T = 10')\n",
    "plt.xlabel(\"time(Monte Carlo step )\")\n",
    "plt.ylabel('Length (end to end)')\n",
    "plt.show()"
   ]
  },
  {
   "cell_type": "code",
   "execution_count": 646,
   "metadata": {},
   "outputs": [
    {
     "data": {
      "image/png": "[encoded data removed]",
      "text/plain": [
       "<Figure size 432x288 with 1 Axes>"
      ]
     },
     "metadata": {
      "needs_background": "light"
     },
     "output_type": "display_data"
    }
   ],
   "source": [
    "plt.plot(range(len(every_nth_energy)),every_nth_energy,linewidth=1.0)\n",
    "plt.title('Energy versus time at T = 10')\n",
    "plt.xlabel(\"time(Monte Carlo steps)\")\n",
    "plt.ylabel('Energy (in unit of kB)')\n",
    "plt.show()"
   ]
  },
  {
   "cell_type": "code",
   "execution_count": 647,
   "metadata": {},
   "outputs": [
    {
     "name": "stdout",
     "output_type": "stream",
     "text": [
      "[57, 57, 57, 57, 57, 57, 57, 58, 59, 59, 59, 60, 60, 60, 59]\n",
      "[1867, 1868, 1869, 1870, 1871, 1872, 1873, 1873, 1873, 1872, 1871, 1871, 1870, 1869, 1869]\n"
     ]
    }
   ],
   "source": [
    "x = []\n",
    "y = []\n",
    "for i in range(len(protein_coordinate[-1])):\n",
    "    x.append(protein_coordinate[-1][i][0])\n",
    "    y.append(protein_coordinate[-1][i][1])\n",
    "print(x)\n",
    "print(y)\n",
    "protein = np.array(protein_sq)"
   ]
  },
  {
   "cell_type": "code",
   "execution_count": 648,
   "metadata": {},
   "outputs": [
    {
     "data": {
      "image/png": "[encoded data removed]",
      "text/plain": [
       "<Figure size 432x288 with 1 Axes>"
      ]
     },
     "metadata": {
      "needs_background": "light"
     },
     "output_type": "display_data"
    }
   ],
   "source": [
    "plt.plot(x, y, 'k-', zorder=1)  # straight lines\n",
    "# large dots colored via the 'tab20' colormap, set zorder=3 to draw the dots on top of the lines\n",
    "plt.scatter(x, y,  s=200, zorder=3) \n",
    "\n",
    "plt.axis('off') # don't show the axes\n",
    "plt.margins(0.1) # enough margin so that the large scatter dots don't touch the borders\n",
    "plt.gca().set_aspect('equal') # equal distances in x and y direction \n",
    "plt.show()"
   ]
  },
  {
   "cell_type": "code",
   "execution_count": 649,
   "metadata": {},
   "outputs": [],
   "source": [
    "# range_of_TT = range(1,10)\n",
    "# print(type(range_of_TT))\n",
    "# for i in range_of_TT:\n",
    "#     print(i)"
   ]
  },
  {
   "cell_type": "code",
   "execution_count": 650,
   "metadata": {},
   "outputs": [
    {
     "data": {
      "image/png": "[encoded data removed]",
      "text/plain": [
       "<Figure size 432x288 with 1 Axes>"
      ]
     },
     "metadata": {
      "needs_background": "light"
     },
     "output_type": "display_data"
    }
   ],
   "source": [
    "plt.scatter(range_of_TT,energy_vs_temp_energy)\n",
    "plt.title('Energy versus Temperature')\n",
    "plt.xlabel('Temperature')\n",
    "plt.ylabel('Energy')\n",
    "plt.show()"
   ]
  },
  {
   "cell_type": "code",
   "execution_count": 651,
   "metadata": {},
   "outputs": [
    {
     "data": {
      "image/png": "[encoded data removed]",
      "text/plain": [
       "<Figure size 432x288 with 1 Axes>"
      ]
     },
     "metadata": {
      "needs_background": "light"
     },
     "output_type": "display_data"
    }
   ],
   "source": [
    "plt.scatter(range_of_TT,energy_vs_temp_length)\n",
    "plt.title('Length versus Temperature')\n",
    "plt.xlabel('Temperature')\n",
    "plt.ylabel('Length')\n",
    "plt.show()"
   ]
  },
  {
   "cell_type": "code",
   "execution_count": 652,
   "metadata": {},
   "outputs": [
    {
     "name": "stdout",
     "output_type": "stream",
     "text": [
      "[-68.03184063016069, -70.5165684753142, -65.63845721263972, -62.306923371662116, -60.2519512883033, -58.41221311920344, -57.17682932160744, -56.63641496960154, -55.92164177934831, -55.02047286779728, -54.93139091322384, -54.7880685755287, -54.45163342955864, -54.23735629865467, -54.17795099110069, -53.9393779961737, -53.84796183221534, -53.77725546823985, -53.67281322711533, -53.69911166190207]\n",
      "[1.4151508206732986, 4.26189018580299, 4.486675150108817, 4.8217820720041225, 5.009841011320953, 4.996358440109432, 5.337612425128892, 5.3222149100190554, 5.47085421155975, 5.622994421183738, 5.64575360020617, 5.624167631181298, 5.751580156544284, 5.830983833082986, 5.812171956549803, 5.87337922406513, 5.902148921687635, 5.881779272789326, 5.882442779661764, 5.889059227149346]\n"
     ]
    }
   ],
   "source": [
    "print(energy_vs_temp_energy)\n",
    "print(energy_vs_temp_length)"
   ]
  },
  {
   "cell_type": "code",
   "execution_count": 653,
   "metadata": {},
   "outputs": [],
   "source": [
    "# plt.scatter([0.5,1.0,1.5,2.0,2.5,3.0,3.5,4.0,4.5,5.0,5.5,6.0,6.5,7.0,7.5,8.0,8.5,9.0,9.5],energy_vs_temp_energy)\n",
    "# plt.title('energy versus tmeperature')\n",
    "# plt.xlabel('temperature')\n",
    "# plt.ylabel('energy')\n",
    "# plt.show()"
   ]
  },
  {
   "cell_type": "code",
   "execution_count": 654,
   "metadata": {},
   "outputs": [],
   "source": [
    "# kk = [-0.00013988086586254306, -0.0003763852195512058, -0.0010215348538788632, -0.001732411217159116, -0.0022648166355634432, -0.0026561819455760798, -0.002907458958205845, -0.003073721750444946, -0.0031788175487762623, -0.003237958646745721, -0.003265276506123856, -0.0032648516003949937, -0.00326604562958725, -0.003245407875636301, -0.0032225093634406206, -0.003190996284202452, -0.0031543240576433385, -0.003115285080018983, -0.00307876413161694]\n",
    "# nega = [ 2.4343476026947743, 4.168491422997082,4.281471283060433,4.371593369198875,4.831503063025529,5.06363054282866,5.246292275291572,5.36077726826828,5.518729802455272,5.479080781898463,5.49472902895095,5.497549749157742,5.545730594417403, 5.5500302302759374, 5.550226792902141, 5.550982769782327, 5.548013649961362, 5.544550698281002]\n",
    "# yup = [0.5,1.0,1.5,2.0,2.5,3.0,3.5,4.0,4.5,5.0,5.5,6.0,6.5,7.0,7.5,8.0,8.5,9.0]\n",
    "# plt.scatter(yup,nega)\n",
    "# plt.title('length versus tmeperature')\n",
    "# plt.xlabel('temperature')\n",
    "# plt.ylabel('length')\n",
    "# plt.show()"
   ]
  }
 ],
 "metadata": {
  "interpreter": {
   "hash": "b0fa6594d8f4cbf19f97940f81e996739fb7646882a419484c72d19e05852a7e"
  },
  "kernelspec": {
   "display_name": "Python 3.9.7 64-bit",
   "language": "python",
   "name": "python3"
  },
  "language_info": {
   "codemirror_mode": {
    "name": "ipython",
    "version": 3
   },
   "file_extension": ".py",
   "mimetype": "text/x-python",
   "name": "python",
   "nbconvert_exporter": "python",
   "pygments_lexer": "ipython3",
   "version": "3.9.7"
  },
  "orig_nbformat": 4
 },
 "nbformat": 4,
 "nbformat_minor": 2
}
