{
 "cells": [
  {
   "cell_type": "code",
   "execution_count": 82,
   "metadata": {},
   "outputs": [],
   "source": [
    "import math\n",
    "import numpy as np\n",
    "import pandas as pd\n",
    "from matplotlib import pyplot as plt \n",
    "import random"
   ]
  },
  {
   "cell_type": "code",
   "execution_count": 83,
   "metadata": {},
   "outputs": [],
   "source": [
    "\n",
    "random.seed(589015328) # this seed should not be changed in order to reproduce result\n",
    "TT = 5000\n",
    "temperature = 10\n",
    "numebr_amino_acids = 15"
   ]
  },
  {
   "cell_type": "code",
   "execution_count": 84,
   "metadata": {},
   "outputs": [],
   "source": [
    "direction = np.zeros(numebr_amino_acids, dtype =int) # initial chain is a straight line\n",
    "protein_coordinate = []\n",
    "coordinate_over_time = []\n",
    "energy_over_time  =[]\n",
    "J = np.zeros((numebr_amino_acids, numebr_amino_acids))\n",
    "protein_sq = []"
   ]
  },
  {
   "cell_type": "code",
   "execution_count": 85,
   "metadata": {},
   "outputs": [
    {
     "name": "stdout",
     "output_type": "stream",
     "text": [
      "[1, 10, 10, 9, 3, 15, 10, 17, 1, 16, 20, 9, 14, 14, 4]\n"
     ]
    }
   ],
   "source": [
    "def sequence_N_integers(N):\n",
    "    #array of numbers between 1-20, values represent type of amino acid, can repeat\n",
    "    return [random.randrange(1,21) for _ in range(N)]\n",
    "protein_sq = sequence_N_integers(numebr_amino_acids)\n",
    "print(protein_sq)"
   ]
  },
  {
   "cell_type": "code",
   "execution_count": 86,
   "metadata": {},
   "outputs": [],
   "source": [
    "def distance(x1, y1, x2, y2):\n",
    "    return math.sqrt((x2-x1)**2+(y2-y1)**2)"
   ]
  },
  {
   "cell_type": "code",
   "execution_count": 87,
   "metadata": {},
   "outputs": [],
   "source": [
    "def diagonal_nigbour(x1, y1):\n",
    "    up_right = [x1 + 1, y1 + 1]\n",
    "    down_right= [x1 + 1, y1 - 1]\n",
    "    down_left = [x1 - 1, y1 - 1]\n",
    "    up_left = [x1 - 1, y1 + 1]\n",
    "    return [up_right, down_right, down_left, up_left]"
   ]
  },
  {
   "cell_type": "code",
   "execution_count": 88,
   "metadata": {},
   "outputs": [],
   "source": [
    "def direct_nigbour(x1,y1):\n",
    "    up= [x1 , y1 + 1]\n",
    "    down= [x1 , y1 - 1]\n",
    "    left = [x1 - 1, y1 ]\n",
    "    right = [x1 - 1, y1]\n",
    "    return [up, down, left, right]"
   ]
  },
  {
   "cell_type": "code",
   "execution_count": 89,
   "metadata": {},
   "outputs": [
    {
     "data": {
      "text/plain": [
       "array([[-2.77323457, -3.01782368, -2.86870745, -2.01942183, -2.69900151,\n",
       "        -3.13463769, -3.3529648 , -2.62621456, -3.2599252 , -3.08979194,\n",
       "        -3.74790596, -2.45271872, -3.76312196, -3.62673276, -2.69574767],\n",
       "       [-3.01782368, -3.08792459, -2.5252628 , -3.01721918, -2.44847698,\n",
       "        -2.26638083, -3.31704799, -2.23126578, -3.08425143, -2.30543422,\n",
       "        -2.73719796, -3.82938603, -3.07447085, -2.45505246, -3.33262639],\n",
       "       [-2.86870745, -2.5252628 , -2.32196133, -3.76687637, -2.77906741,\n",
       "        -3.26989745, -2.66682432, -2.56310528, -2.121855  , -3.37635667,\n",
       "        -2.9100839 , -2.25436812, -3.48129058, -3.98008357, -3.12736297],\n",
       "       [-2.01942183, -3.01721918, -3.76687637, -2.81698678, -3.23828945,\n",
       "        -3.60628614, -3.09373957, -3.36726804, -2.33859314, -2.52796024,\n",
       "        -2.42376574, -3.13930094, -3.55515547, -2.36226161, -2.22276613],\n",
       "       [-2.69900151, -2.44847698, -2.77906741, -3.23828945, -2.74682593,\n",
       "        -3.53534909, -3.73946528, -2.78386191, -3.03236354, -3.39046231,\n",
       "        -3.19992442, -3.87357367, -3.96638213, -3.49303329, -2.66920693],\n",
       "       [-3.13463769, -2.26638083, -3.26989745, -3.60628614, -3.53534909,\n",
       "        -2.75045668, -2.85742359, -3.09228677, -3.55572808, -2.34921472,\n",
       "        -3.54025041, -3.06628317, -3.61645393, -3.5248715 , -2.57187911],\n",
       "       [-3.3529648 , -3.31704799, -2.66682432, -3.09373957, -3.73946528,\n",
       "        -2.85742359, -3.0786708 , -2.06550326, -2.65475477, -3.52252332,\n",
       "        -3.99959424, -3.21505819, -3.57150344, -3.75867212, -3.44393347],\n",
       "       [-2.62621456, -2.23126578, -2.56310528, -3.36726804, -2.78386191,\n",
       "        -3.09228677, -2.06550326, -2.25245787, -2.00940397, -2.77720012,\n",
       "        -2.49420006, -3.97103464, -2.89769253, -2.36891118, -3.41534316],\n",
       "       [-3.2599252 , -3.08425143, -2.121855  , -2.33859314, -3.03236354,\n",
       "        -3.55572808, -2.65475477, -2.00940397, -2.70163405, -2.91507057,\n",
       "        -2.40673981, -3.18561114, -2.1241546 , -3.78287338, -2.47605344],\n",
       "       [-3.08979194, -2.30543422, -3.37635667, -2.52796024, -3.39046231,\n",
       "        -2.34921472, -3.52252332, -2.77720012, -2.91507057, -3.81657382,\n",
       "        -2.21851956, -2.38834382, -2.81895753, -3.53858673, -2.67392244],\n",
       "       [-3.74790596, -2.73719796, -2.9100839 , -2.42376574, -3.19992442,\n",
       "        -3.54025041, -3.99959424, -2.49420006, -2.40673981, -2.21851956,\n",
       "        -2.87795744, -2.18801045, -3.83845329, -3.24003236, -2.58796796],\n",
       "       [-2.45271872, -3.82938603, -2.25436812, -3.13930094, -3.87357367,\n",
       "        -3.06628317, -3.21505819, -3.97103464, -3.18561114, -2.38834382,\n",
       "        -2.18801045, -3.36112543, -3.28663195, -3.11299368, -2.68806299],\n",
       "       [-3.76312196, -3.07447085, -3.48129058, -3.55515547, -3.96638213,\n",
       "        -3.61645393, -3.57150344, -2.89769253, -2.1241546 , -2.81895753,\n",
       "        -3.83845329, -3.28663195, -2.35499716, -3.79975331, -2.50858929],\n",
       "       [-3.62673276, -2.45505246, -3.98008357, -2.36226161, -3.49303329,\n",
       "        -3.5248715 , -3.75867212, -2.36891118, -3.78287338, -3.53858673,\n",
       "        -3.24003236, -3.11299368, -3.79975331, -3.2077218 , -3.90877586],\n",
       "       [-2.69574767, -3.33262639, -3.12736297, -2.22276613, -2.66920693,\n",
       "        -2.57187911, -3.44393347, -3.41534316, -2.47605344, -2.67392244,\n",
       "        -2.58796796, -2.68806299, -2.50858929, -3.90877586, -3.79805183]])"
      ]
     },
     "execution_count": 89,
     "metadata": {},
     "output_type": "execute_result"
    }
   ],
   "source": [
    "def initial_J():\n",
    "    for i in range(numebr_amino_acids):\n",
    "        for j in range(numebr_amino_acids):\n",
    "            if (j>=i):\n",
    "                J[i,j] = random.uniform(-4.0, -2.0)\n",
    "                J[j,i] = J[i,j]\n",
    "initial_J()\n",
    "J"
   ]
  },
  {
   "cell_type": "code",
   "execution_count": 90,
   "metadata": {},
   "outputs": [
    {
     "data": {
      "text/plain": [
       "10"
      ]
     },
     "execution_count": 90,
     "metadata": {},
     "output_type": "execute_result"
    }
   ],
   "source": [
    "\n",
    "def initial_protein():\n",
    "    return [[i,10] for i in range(numebr_amino_acids)]\n",
    "\n",
    "protein_coordinate.append(initial_protein())\n",
    "protein_coordinate[0][0][1]"
   ]
  },
  {
   "cell_type": "code",
   "execution_count": 91,
   "metadata": {},
   "outputs": [],
   "source": [
    "# def total_e(squence, energy, coordinate, t):\n",
    "#     total = 0\n",
    "#     for i in range(numebr_amino_acids):\n",
    "#         temp_protien_type = squence[i]\n",
    "#         temp_coord = direct_nigbour(coordinate[t][i][0],coordinate[t][i][1])\n",
    "#         for j in range(i, numebr_amino_acids):\n",
    "            \n"
   ]
  },
  {
   "cell_type": "code",
   "execution_count": 92,
   "metadata": {},
   "outputs": [],
   "source": [
    "def overlap(x,y,t):\n",
    "    return [x, y] in protein_coordinate[t]\n",
    "#overlap(1,11,0) # False"
   ]
  },
  {
   "cell_type": "code",
   "execution_count": 93,
   "metadata": {},
   "outputs": [],
   "source": [
    "def check_i_zero_break(i, t,new_x,new_y):\n",
    "    next_amino_x = protein_coordinate[t][i + 1][0]\n",
    "    next_amino_y = protein_coordinate[t][i + 1][1]\n",
    "    return (distance(next_amino_x,next_amino_y,new_x,new_y) != 1)\n",
    "    "
   ]
  },
  {
   "cell_type": "code",
   "execution_count": 94,
   "metadata": {},
   "outputs": [],
   "source": [
    "def check_i_last_break(i, t,new_x,new_y):\n",
    "    before_amino_x = protein_coordinate[t][i - 1][0]\n",
    "    before_amino_y = protein_coordinate[t][i - 1][1]\n",
    "    return (distance(before_amino_x,before_amino_y,new_x,new_y) != 1)"
   ]
  },
  {
   "cell_type": "code",
   "execution_count": 95,
   "metadata": {},
   "outputs": [],
   "source": [
    "def check_i_middle_break(i,t,new_x,new_y):\n",
    "    next_amino_x = protein_coordinate[t][i + 1][0]\n",
    "    next_amino_y = protein_coordinate[t][i + 1][1]\n",
    "    before_amino_x = protein_coordinate[t][i - 1][0]\n",
    "    before_amino_y = protein_coordinate[t][i - 1][1]\n",
    "    return(distance(next_amino_x,next_amino_y,new_x,new_y) != 1 or distance(before_amino_x,before_amino_y,new_x,new_y) != 1)"
   ]
  },
  {
   "cell_type": "code",
   "execution_count": 96,
   "metadata": {},
   "outputs": [],
   "source": [
    "# for k in direct_nigbour(new_x,new_y):\n",
    "#         if([next_amino_x,next_amino_y] == k):\n",
    "#             return True\n",
    "#         if(k not in protein_coordinate[t]):\n",
    "#             return True"
   ]
  },
  {
   "cell_type": "code",
   "execution_count": 97,
   "metadata": {},
   "outputs": [],
   "source": [
    "def check_new_e_zero(i,t,new_x,new_y):\n",
    "    en = 0\n",
    "    for pos in direct_nigbour(new_x,new_y): \n",
    "        if (pos in protein_coordinate[t]):\n",
    "            index_next = protein_coordinate[t].index(pos)\n",
    "            if(index_next == i + 1 ):\n",
    "                continue\n",
    "            else:\n",
    "                en += J[protein_sq[i],protein_sq[index_next]]\n",
    "        return en"
   ]
  },
  {
   "cell_type": "code",
   "execution_count": 98,
   "metadata": {},
   "outputs": [],
   "source": [
    "def check_new_e_last(i,t,new_x,new_y):\n",
    "    en = 0\n",
    "    for pos in direct_nigbour(new_x,new_y): \n",
    "        if (pos in protein_coordinate[t]):\n",
    "            index_next = protein_coordinate[t].index(pos)\n",
    "            if(index_next == i - 1 ):\n",
    "                continue\n",
    "            else:\n",
    "                en += J[protein_sq[i],protein_sq[index_next]]\n",
    "        return en"
   ]
  },
  {
   "cell_type": "code",
   "execution_count": 99,
   "metadata": {},
   "outputs": [],
   "source": [
    "def check_new_e_middle(i,t,new_x,new_y):\n",
    "    en = 0\n",
    "    for pos in direct_nigbour(new_x,new_y): \n",
    "        if (pos in protein_coordinate[t]):\n",
    "            index_next = protein_coordinate[t].index(pos)\n",
    "            if index_next in [i - 1, i + 1]:\n",
    "                continue\n",
    "            else:\n",
    "                en += J[protein_sq[i],protein_sq[index_next]]\n",
    "        return en"
   ]
  },
  {
   "cell_type": "code",
   "execution_count": 100,
   "metadata": {},
   "outputs": [
    {
     "ename": "IndentationError",
     "evalue": "expected an indented block (353649205.py, line 22)",
     "output_type": "error",
     "traceback": [
      "\u001b[0;36m  File \u001b[0;32m\"/var/folders/jd/pyhvlbhj7zq5ljxf6wrlk5xm0000gn/T/ipykernel_5285/353649205.py\"\u001b[0;36m, line \u001b[0;32m22\u001b[0m\n\u001b[0;31m    elif (i == (numebr_amino_acids - 1)):\u001b[0m\n\u001b[0m    ^\u001b[0m\n\u001b[0;31mIndentationError\u001b[0m\u001b[0;31m:\u001b[0m expected an indented block\n"
     ]
    }
   ],
   "source": [
    "for t in range(TT): # time or generatation \n",
    "    new_e = 0\n",
    "    new_coord = []\n",
    "    #loop throught entire protein\n",
    "    for i in range(numebr_amino_acids):\n",
    "        #print(protein_coordinate[t][i][0])\n",
    "        temp_x = protein_coordinate[t][i][0]\n",
    "        temp_y = protein_coordinate[t][i][1]\n",
    "        random_dia = diagonal_nigbour(temp_x, temp_y)[random.randrange(4)]\n",
    "        new_x = random_dia[0]\n",
    "        new_y = random_dia[1]\n",
    "\n",
    "        # check overlap\n",
    "        if overlap(new_x, new_y, t):\n",
    "            continue\n",
    "\n",
    "        #check break or not\n",
    "        if (i == 0):\n",
    "            if check_i_zero_break(i,t,new_x,new_y):\n",
    "                continue\n",
    "            else:\n",
    "                delta_e = check_new_e_zero(i,t,new_x,new_y) - check_new_e_zero(i,t,temp_x,temp_y)\n",
    "                if (delta_e < 0):\n",
    "                    new_coord.append([new_x,new_y])\n",
    "                else:\n",
    "                    if min(1, np.exp(-delta_e/temperature))>np.random.random():\n",
    "                        new_coord.append([new_x,new_y])\n",
    "                    else:\n",
    "                        new_coord.append([temp_x,temp_y])\n",
    "        \n",
    "        elif (i > 0 and i < numebr_amino_acids - 1):\n",
    "            if check_i_middle_break(i,t,new_x, new_y):\n",
    "                continue\n",
    "            # check energy\n",
    "            else:\n",
    "                delta_e = check_new_e_middle(i,t,new_x,new_y) - check_new_e_middle(i,t,temp_x,temp_y)\n",
    "                if (delta_e < 0):\n",
    "                    new_coord.append([new_x,new_y])\n",
    "                else:\n",
    "                    if min(1, np.exp(-delta_e/temperature))>np.random.random():\n",
    "                        new_coord.append([new_x,new_y])\n",
    "                    else:\n",
    "                        new_coord.append([temp_x,temp_y])\n",
    "        elif (i == (numebr_amino_acids - 1)):\n",
    "            if check_i_last_break(i,t,new_x,new_y):\n",
    "                continue\n",
    "            else:\n",
    "                delta_e = check_new_e_last(i,t,new_x,new_y) - check_new_e_last(i,t,temp_x,temp_y)\n",
    "                if (delta_e < 0):\n",
    "                    new_coord.append([new_x,new_y])\n",
    "                else:\n",
    "                    if min(1, np.exp(-delta_e/temperature))>np.random.random():\n",
    "                        new_coord.append([new_x,new_y])\n",
    "                    else:\n",
    "                        new_coord.append([temp_x,temp_y])\n",
    "        \n",
    "        # update protein coordinate\n",
    "\n"
   ]
  },
  {
   "cell_type": "code",
   "execution_count": 101,
   "metadata": {},
   "outputs": [
    {
     "name": "stdout",
     "output_type": "stream",
     "text": [
      "0\n"
     ]
    }
   ],
   "source": [
    "print(protein_coordinate[0].index([0,10]))"
   ]
  },
  {
   "cell_type": "markdown",
   "metadata": {},
   "source": []
  },
  {
   "cell_type": "code",
   "execution_count": null,
   "metadata": {},
   "outputs": [],
   "source": []
  }
 ],
 "metadata": {
  "interpreter": {
   "hash": "b0fa6594d8f4cbf19f97940f81e996739fb7646882a419484c72d19e05852a7e"
  },
  "kernelspec": {
   "display_name": "Python 3.9.7 64-bit",
   "language": "python",
   "name": "python3"
  },
  "language_info": {
   "codemirror_mode": {
    "name": "ipython",
    "version": 3
   },
   "file_extension": ".py",
   "mimetype": "text/x-python",
   "name": "python",
   "nbconvert_exporter": "python",
   "pygments_lexer": "ipython3",
   "version": "3.9.7"
  },
  "orig_nbformat": 4
 },
 "nbformat": 4,
 "nbformat_minor": 2
}
